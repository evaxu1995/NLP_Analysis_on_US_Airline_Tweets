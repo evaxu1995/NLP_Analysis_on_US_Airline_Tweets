{
 "cells": [
  {
   "cell_type": "code",
   "execution_count": 1,
   "metadata": {
    "ExecuteTime": {
     "end_time": "2019-10-04T20:01:40.783519Z",
     "start_time": "2019-10-04T20:01:30.905964Z"
    }
   },
   "outputs": [
    {
     "name": "stderr",
     "output_type": "stream",
     "text": [
      "/Users/evaxu/anaconda3/lib/python3.7/site-packages/sklearn/externals/joblib/__init__.py:15: DeprecationWarning: sklearn.externals.joblib is deprecated in 0.21 and will be removed in 0.23. Please import this functionality directly from joblib, which can be installed with: pip install joblib. If this warning is raised when loading pickled models, you may need to re-serialize those models with scikit-learn 0.21+.\n",
      "  warnings.warn(msg, category=DeprecationWarning)\n"
     ]
    }
   ],
   "source": [
    "import pandas as pd\n",
    "import numpy as np\n",
    "import seaborn as sns\n",
    "import pickle\n",
    "\n",
    "import nltk\n",
    "from nltk.tokenize import word_tokenize\n",
    "from nltk.tokenize import sent_tokenize\n",
    "from nltk.tokenize import RegexpTokenizer\n",
    "from nltk.util import ngrams\n",
    "from nltk.stem import LancasterStemmer\n",
    "\n",
    "import re \n",
    "import string\n",
    "\n",
    "from sklearn import datasets\n",
    "from sklearn.feature_extraction.text import CountVectorizer, TfidfVectorizer\n",
    "from sklearn.model_selection import train_test_split,GridSearchCV,cross_validate, cross_val_score\n",
    "from sklearn.metrics import classification_report,confusion_matrix, accuracy_score, precision_score, recall_score,fbeta_score\n",
    "from sklearn.decomposition import NMF\n",
    "from sklearn.externals import joblib\n",
    "from sklearn.linear_model import LogisticRegression\n",
    "from sklearn.neighbors import KNeighborsClassifier\n",
    "from sklearn.tree import DecisionTreeClassifier\n",
    "from sklearn.ensemble import RandomForestClassifier, GradientBoostingClassifier\n",
    "from sklearn.naive_bayes import GaussianNB\n",
    "from sklearn.discriminant_analysis import LinearDiscriminantAnalysis, QuadraticDiscriminantAnalysis\n",
    "import xgboost as xgb\n",
    "\n",
    "pd.set_option('display.max_colwidth', -1)"
   ]
  },
  {
   "cell_type": "code",
   "execution_count": 2,
   "metadata": {
    "ExecuteTime": {
     "end_time": "2019-10-04T20:01:43.975350Z",
     "start_time": "2019-10-04T20:01:43.791282Z"
    }
   },
   "outputs": [],
   "source": [
    "# read in data from Kaggle\n",
    "df = pd.read_csv('/Users/evaxu/Desktop/Metis/Local_Projects_files/project_4/Airline2015_Tweets.csv')"
   ]
  },
  {
   "cell_type": "code",
   "execution_count": 3,
   "metadata": {
    "ExecuteTime": {
     "end_time": "2019-10-04T20:01:45.128398Z",
     "start_time": "2019-10-04T20:01:44.970170Z"
    }
   },
   "outputs": [
    {
     "name": "stdout",
     "output_type": "stream",
     "text": [
      "<class 'pandas.core.frame.DataFrame'>\n",
      "RangeIndex: 14640 entries, 0 to 14639\n",
      "Data columns (total 15 columns):\n",
      "tweet_id                        14640 non-null int64\n",
      "airline_sentiment               14640 non-null object\n",
      "airline_sentiment_confidence    14640 non-null float64\n",
      "negativereason                  9178 non-null object\n",
      "negativereason_confidence       10522 non-null float64\n",
      "airline                         14640 non-null object\n",
      "airline_sentiment_gold          40 non-null object\n",
      "name                            14640 non-null object\n",
      "negativereason_gold             32 non-null object\n",
      "retweet_count                   14640 non-null int64\n",
      "text                            14640 non-null object\n",
      "tweet_coord                     1019 non-null object\n",
      "tweet_created                   14640 non-null object\n",
      "tweet_location                  9907 non-null object\n",
      "user_timezone                   9820 non-null object\n",
      "dtypes: float64(2), int64(2), object(11)\n",
      "memory usage: 1.7+ MB\n"
     ]
    }
   ],
   "source": [
    "df.info()"
   ]
  },
  {
   "cell_type": "code",
   "execution_count": 4,
   "metadata": {
    "ExecuteTime": {
     "end_time": "2019-10-04T20:01:46.046747Z",
     "start_time": "2019-10-04T20:01:45.998906Z"
    }
   },
   "outputs": [
    {
     "data": {
      "text/html": [
       "<div>\n",
       "<style scoped>\n",
       "    .dataframe tbody tr th:only-of-type {\n",
       "        vertical-align: middle;\n",
       "    }\n",
       "\n",
       "    .dataframe tbody tr th {\n",
       "        vertical-align: top;\n",
       "    }\n",
       "\n",
       "    .dataframe thead th {\n",
       "        text-align: right;\n",
       "    }\n",
       "</style>\n",
       "<table border=\"1\" class=\"dataframe\">\n",
       "  <thead>\n",
       "    <tr style=\"text-align: right;\">\n",
       "      <th></th>\n",
       "      <th>tweet_id</th>\n",
       "      <th>airline_sentiment</th>\n",
       "      <th>airline_sentiment_confidence</th>\n",
       "      <th>negativereason</th>\n",
       "      <th>negativereason_confidence</th>\n",
       "      <th>airline</th>\n",
       "      <th>airline_sentiment_gold</th>\n",
       "      <th>name</th>\n",
       "      <th>negativereason_gold</th>\n",
       "      <th>retweet_count</th>\n",
       "      <th>text</th>\n",
       "      <th>tweet_coord</th>\n",
       "      <th>tweet_created</th>\n",
       "      <th>tweet_location</th>\n",
       "      <th>user_timezone</th>\n",
       "    </tr>\n",
       "  </thead>\n",
       "  <tbody>\n",
       "    <tr>\n",
       "      <th>0</th>\n",
       "      <td>570306133677760000</td>\n",
       "      <td>neutral</td>\n",
       "      <td>1.0000</td>\n",
       "      <td>NaN</td>\n",
       "      <td>NaN</td>\n",
       "      <td>Virgin America</td>\n",
       "      <td>NaN</td>\n",
       "      <td>cairdin</td>\n",
       "      <td>NaN</td>\n",
       "      <td>0</td>\n",
       "      <td>@VirginAmerica What @dhepburn said.</td>\n",
       "      <td>NaN</td>\n",
       "      <td>2/24/15 11:35</td>\n",
       "      <td>NaN</td>\n",
       "      <td>Eastern Time (US &amp; Canada)</td>\n",
       "    </tr>\n",
       "    <tr>\n",
       "      <th>1</th>\n",
       "      <td>570301130888122000</td>\n",
       "      <td>positive</td>\n",
       "      <td>0.3486</td>\n",
       "      <td>NaN</td>\n",
       "      <td>0.0000</td>\n",
       "      <td>Virgin America</td>\n",
       "      <td>NaN</td>\n",
       "      <td>jnardino</td>\n",
       "      <td>NaN</td>\n",
       "      <td>0</td>\n",
       "      <td>@VirginAmerica plus you've added commercials to the experience... tacky.</td>\n",
       "      <td>NaN</td>\n",
       "      <td>2/24/15 11:15</td>\n",
       "      <td>NaN</td>\n",
       "      <td>Pacific Time (US &amp; Canada)</td>\n",
       "    </tr>\n",
       "    <tr>\n",
       "      <th>2</th>\n",
       "      <td>570301083672813000</td>\n",
       "      <td>neutral</td>\n",
       "      <td>0.6837</td>\n",
       "      <td>NaN</td>\n",
       "      <td>NaN</td>\n",
       "      <td>Virgin America</td>\n",
       "      <td>NaN</td>\n",
       "      <td>yvonnalynn</td>\n",
       "      <td>NaN</td>\n",
       "      <td>0</td>\n",
       "      <td>@VirginAmerica I didn't today... Must mean I need to take another trip!</td>\n",
       "      <td>NaN</td>\n",
       "      <td>2/24/15 11:15</td>\n",
       "      <td>Lets Play</td>\n",
       "      <td>Central Time (US &amp; Canada)</td>\n",
       "    </tr>\n",
       "    <tr>\n",
       "      <th>3</th>\n",
       "      <td>570301031407624000</td>\n",
       "      <td>negative</td>\n",
       "      <td>1.0000</td>\n",
       "      <td>Bad Flight</td>\n",
       "      <td>0.7033</td>\n",
       "      <td>Virgin America</td>\n",
       "      <td>NaN</td>\n",
       "      <td>jnardino</td>\n",
       "      <td>NaN</td>\n",
       "      <td>0</td>\n",
       "      <td>@VirginAmerica it's really aggressive to blast obnoxious \"entertainment\" in your guests' faces &amp;amp; they have little recourse</td>\n",
       "      <td>NaN</td>\n",
       "      <td>2/24/15 11:15</td>\n",
       "      <td>NaN</td>\n",
       "      <td>Pacific Time (US &amp; Canada)</td>\n",
       "    </tr>\n",
       "    <tr>\n",
       "      <th>4</th>\n",
       "      <td>570300817074462000</td>\n",
       "      <td>negative</td>\n",
       "      <td>1.0000</td>\n",
       "      <td>Can't Tell</td>\n",
       "      <td>1.0000</td>\n",
       "      <td>Virgin America</td>\n",
       "      <td>NaN</td>\n",
       "      <td>jnardino</td>\n",
       "      <td>NaN</td>\n",
       "      <td>0</td>\n",
       "      <td>@VirginAmerica and it's a really big bad thing about it</td>\n",
       "      <td>NaN</td>\n",
       "      <td>2/24/15 11:14</td>\n",
       "      <td>NaN</td>\n",
       "      <td>Pacific Time (US &amp; Canada)</td>\n",
       "    </tr>\n",
       "  </tbody>\n",
       "</table>\n",
       "</div>"
      ],
      "text/plain": [
       "             tweet_id airline_sentiment  airline_sentiment_confidence  \\\n",
       "0  570306133677760000  neutral           1.0000                         \n",
       "1  570301130888122000  positive          0.3486                         \n",
       "2  570301083672813000  neutral           0.6837                         \n",
       "3  570301031407624000  negative          1.0000                         \n",
       "4  570300817074462000  negative          1.0000                         \n",
       "\n",
       "  negativereason  negativereason_confidence         airline  \\\n",
       "0  NaN           NaN                         Virgin America   \n",
       "1  NaN            0.0000                     Virgin America   \n",
       "2  NaN           NaN                         Virgin America   \n",
       "3  Bad Flight     0.7033                     Virgin America   \n",
       "4  Can't Tell     1.0000                     Virgin America   \n",
       "\n",
       "  airline_sentiment_gold        name negativereason_gold  retweet_count  \\\n",
       "0  NaN                    cairdin     NaN                 0               \n",
       "1  NaN                    jnardino    NaN                 0               \n",
       "2  NaN                    yvonnalynn  NaN                 0               \n",
       "3  NaN                    jnardino    NaN                 0               \n",
       "4  NaN                    jnardino    NaN                 0               \n",
       "\n",
       "                                                                                                                             text  \\\n",
       "0  @VirginAmerica What @dhepburn said.                                                                                              \n",
       "1  @VirginAmerica plus you've added commercials to the experience... tacky.                                                         \n",
       "2  @VirginAmerica I didn't today... Must mean I need to take another trip!                                                          \n",
       "3  @VirginAmerica it's really aggressive to blast obnoxious \"entertainment\" in your guests' faces &amp; they have little recourse   \n",
       "4  @VirginAmerica and it's a really big bad thing about it                                                                          \n",
       "\n",
       "  tweet_coord  tweet_created tweet_location               user_timezone  \n",
       "0  NaN         2/24/15 11:35  NaN            Eastern Time (US & Canada)  \n",
       "1  NaN         2/24/15 11:15  NaN            Pacific Time (US & Canada)  \n",
       "2  NaN         2/24/15 11:15  Lets Play      Central Time (US & Canada)  \n",
       "3  NaN         2/24/15 11:15  NaN            Pacific Time (US & Canada)  \n",
       "4  NaN         2/24/15 11:14  NaN            Pacific Time (US & Canada)  "
      ]
     },
     "execution_count": 4,
     "metadata": {},
     "output_type": "execute_result"
    }
   ],
   "source": [
    "df.head()"
   ]
  },
  {
   "cell_type": "code",
   "execution_count": 5,
   "metadata": {
    "ExecuteTime": {
     "end_time": "2019-10-04T20:01:46.732644Z",
     "start_time": "2019-10-04T20:01:46.704463Z"
    }
   },
   "outputs": [
    {
     "data": {
      "text/plain": [
       "Index(['tweet_id', 'airline_sentiment', 'airline_sentiment_confidence',\n",
       "       'negativereason', 'negativereason_confidence', 'airline',\n",
       "       'airline_sentiment_gold', 'name', 'negativereason_gold',\n",
       "       'retweet_count', 'text', 'tweet_coord', 'tweet_created',\n",
       "       'tweet_location', 'user_timezone'],\n",
       "      dtype='object')"
      ]
     },
     "execution_count": 5,
     "metadata": {},
     "output_type": "execute_result"
    }
   ],
   "source": [
    "data = df.copy()\n",
    "data.columns"
   ]
  },
  {
   "cell_type": "markdown",
   "metadata": {},
   "source": [
    "# Cleaning and EDA"
   ]
  },
  {
   "cell_type": "markdown",
   "metadata": {},
   "source": [
    "## Deleting duplicated tweetid"
   ]
  },
  {
   "cell_type": "code",
   "execution_count": 6,
   "metadata": {
    "ExecuteTime": {
     "end_time": "2019-10-04T20:01:48.054667Z",
     "start_time": "2019-10-04T20:01:48.005394Z"
    }
   },
   "outputs": [],
   "source": [
    "tweetid = data[['tweet_id']] \n",
    "dupes = data[tweetid.duplicated()].index\n",
    "dupes\n",
    "# Looking at example of dupe tweet id : 570308309682675000\n",
    "data[data['tweet_id']==570308309682675000] # The tweet text is the same\n",
    "\n",
    "# Remove duplicates\n",
    "data.drop(index = dupes, inplace = True)"
   ]
  },
  {
   "cell_type": "code",
   "execution_count": 7,
   "metadata": {
    "ExecuteTime": {
     "end_time": "2019-10-04T20:01:48.322429Z",
     "start_time": "2019-10-04T20:01:48.299166Z"
    }
   },
   "outputs": [],
   "source": [
    "data = data.reset_index()"
   ]
  },
  {
   "cell_type": "markdown",
   "metadata": {},
   "source": [
    "## DF with relevant columns"
   ]
  },
  {
   "cell_type": "code",
   "execution_count": 8,
   "metadata": {
    "ExecuteTime": {
     "end_time": "2019-10-04T20:01:48.806772Z",
     "start_time": "2019-10-04T20:01:48.795992Z"
    }
   },
   "outputs": [],
   "source": [
    "columns = ['airline_sentiment', 'airline',\n",
    "       'text']\n",
    "data = data.loc[:,columns]"
   ]
  },
  {
   "cell_type": "code",
   "execution_count": 9,
   "metadata": {
    "ExecuteTime": {
     "end_time": "2019-10-04T20:01:49.050030Z",
     "start_time": "2019-10-04T20:01:49.030881Z"
    }
   },
   "outputs": [
    {
     "data": {
      "text/html": [
       "<div>\n",
       "<style scoped>\n",
       "    .dataframe tbody tr th:only-of-type {\n",
       "        vertical-align: middle;\n",
       "    }\n",
       "\n",
       "    .dataframe tbody tr th {\n",
       "        vertical-align: top;\n",
       "    }\n",
       "\n",
       "    .dataframe thead th {\n",
       "        text-align: right;\n",
       "    }\n",
       "</style>\n",
       "<table border=\"1\" class=\"dataframe\">\n",
       "  <thead>\n",
       "    <tr style=\"text-align: right;\">\n",
       "      <th></th>\n",
       "      <th>airline_sentiment</th>\n",
       "      <th>airline</th>\n",
       "      <th>text</th>\n",
       "    </tr>\n",
       "  </thead>\n",
       "  <tbody>\n",
       "    <tr>\n",
       "      <th>0</th>\n",
       "      <td>neutral</td>\n",
       "      <td>Virgin America</td>\n",
       "      <td>@VirginAmerica What @dhepburn said.</td>\n",
       "    </tr>\n",
       "    <tr>\n",
       "      <th>1</th>\n",
       "      <td>positive</td>\n",
       "      <td>Virgin America</td>\n",
       "      <td>@VirginAmerica plus you've added commercials to the experience... tacky.</td>\n",
       "    </tr>\n",
       "    <tr>\n",
       "      <th>2</th>\n",
       "      <td>neutral</td>\n",
       "      <td>Virgin America</td>\n",
       "      <td>@VirginAmerica I didn't today... Must mean I need to take another trip!</td>\n",
       "    </tr>\n",
       "    <tr>\n",
       "      <th>3</th>\n",
       "      <td>negative</td>\n",
       "      <td>Virgin America</td>\n",
       "      <td>@VirginAmerica it's really aggressive to blast obnoxious \"entertainment\" in your guests' faces &amp;amp; they have little recourse</td>\n",
       "    </tr>\n",
       "    <tr>\n",
       "      <th>4</th>\n",
       "      <td>negative</td>\n",
       "      <td>Virgin America</td>\n",
       "      <td>@VirginAmerica and it's a really big bad thing about it</td>\n",
       "    </tr>\n",
       "  </tbody>\n",
       "</table>\n",
       "</div>"
      ],
      "text/plain": [
       "  airline_sentiment         airline  \\\n",
       "0  neutral           Virgin America   \n",
       "1  positive          Virgin America   \n",
       "2  neutral           Virgin America   \n",
       "3  negative          Virgin America   \n",
       "4  negative          Virgin America   \n",
       "\n",
       "                                                                                                                             text  \n",
       "0  @VirginAmerica What @dhepburn said.                                                                                             \n",
       "1  @VirginAmerica plus you've added commercials to the experience... tacky.                                                        \n",
       "2  @VirginAmerica I didn't today... Must mean I need to take another trip!                                                         \n",
       "3  @VirginAmerica it's really aggressive to blast obnoxious \"entertainment\" in your guests' faces &amp; they have little recourse  \n",
       "4  @VirginAmerica and it's a really big bad thing about it                                                                         "
      ]
     },
     "execution_count": 9,
     "metadata": {},
     "output_type": "execute_result"
    }
   ],
   "source": [
    "data.head()"
   ]
  },
  {
   "cell_type": "markdown",
   "metadata": {},
   "source": [
    "## QUICK EDA:"
   ]
  },
  {
   "cell_type": "code",
   "execution_count": 10,
   "metadata": {
    "ExecuteTime": {
     "end_time": "2019-10-04T20:01:49.557215Z",
     "start_time": "2019-10-04T20:01:49.486706Z"
    }
   },
   "outputs": [
    {
     "data": {
      "text/plain": [
       "negative    0.626993\n",
       "neutral     0.211874\n",
       "positive    0.161132\n",
       "Name: airline_sentiment, dtype: float64"
      ]
     },
     "execution_count": 10,
     "metadata": {},
     "output_type": "execute_result"
    }
   ],
   "source": [
    "# Mostly negative reviews\n",
    "data['airline_sentiment'].value_counts(normalize=True)"
   ]
  },
  {
   "cell_type": "code",
   "execution_count": 11,
   "metadata": {
    "ExecuteTime": {
     "end_time": "2019-10-04T20:01:49.694889Z",
     "start_time": "2019-10-04T20:01:49.679868Z"
    }
   },
   "outputs": [
    {
     "data": {
      "text/plain": [
       "United            0.263859\n",
       "US Airways        0.201105\n",
       "American          0.179772\n",
       "Southwest         0.167069\n",
       "Delta             0.153400\n",
       "Virgin America    0.034795\n",
       "Name: airline, dtype: float64"
      ]
     },
     "execution_count": 11,
     "metadata": {},
     "output_type": "execute_result"
    }
   ],
   "source": [
    "# United has the most reviews, Virgin America has the least\n",
    "# All other airlines are mostly equal # of reviews\n",
    "data['airline'].value_counts(normalize=True)"
   ]
  },
  {
   "cell_type": "code",
   "execution_count": 12,
   "metadata": {
    "ExecuteTime": {
     "end_time": "2019-10-04T20:01:49.949751Z",
     "start_time": "2019-10-04T20:01:49.916207Z"
    }
   },
   "outputs": [
    {
     "data": {
      "text/plain": [
       "airline         airline_sentiment\n",
       "American        negative             0.715822\n",
       "                neutral              0.166283\n",
       "                positive             0.117896\n",
       "Delta           negative             0.429793\n",
       "                neutral              0.325383\n",
       "                positive             0.244824\n",
       "Southwest       negative             0.490083\n",
       "                neutral              0.274380\n",
       "                positive             0.235537\n",
       "US Airways      negative             0.776862\n",
       "                neutral              0.130793\n",
       "                positive             0.092345\n",
       "United          negative             0.688906\n",
       "                neutral              0.182365\n",
       "                positive             0.128728\n",
       "Virgin America  negative             0.359127\n",
       "                neutral              0.339286\n",
       "                positive             0.301587\n",
       "Name: airline_sentiment, dtype: float64"
      ]
     },
     "execution_count": 12,
     "metadata": {},
     "output_type": "execute_result"
    }
   ],
   "source": [
    "# Distribution of sentiment grouped by Airline still skew to negative, except for Virgin America\n",
    "data.groupby(['airline'])['airline_sentiment'].value_counts(normalize=True)"
   ]
  },
  {
   "cell_type": "markdown",
   "metadata": {
    "ExecuteTime": {
     "end_time": "2019-08-15T01:40:44.462216Z",
     "start_time": "2019-08-15T01:40:44.457837Z"
    }
   },
   "source": [
    "# PreProcessing\n"
   ]
  },
  {
   "cell_type": "markdown",
   "metadata": {},
   "source": [
    "## remove the @airline in ['text'] since information is already captured in ['airline']"
   ]
  },
  {
   "cell_type": "code",
   "execution_count": 13,
   "metadata": {
    "ExecuteTime": {
     "end_time": "2019-10-04T20:02:38.263565Z",
     "start_time": "2019-10-04T20:01:50.923212Z"
    }
   },
   "outputs": [],
   "source": [
    "for i in range(len(data)):\n",
    "    airline = data.loc[i, 'airline']\n",
    "    if airline == 'Virgin America':\n",
    "        data.loc[i,'text'] = data.loc[i, 'text'].replace('@VirginAmerica','')\n",
    "    if airline == 'United':\n",
    "        data.loc[i,'text'] = data.loc[i, 'text'].replace('@united','')\n",
    "    if airline == 'Southwest':\n",
    "        data.loc[i,'text'] = data.loc[i, 'text'].replace('@SouthwestAir','')\n",
    "    if airline == 'Delta':\n",
    "        data.loc[i,'text'] = data.loc[i, 'text'].replace('@JetBlue','')\n",
    "    if airline == 'US Airways':\n",
    "        data.loc[i,'text'] = data.loc[i, 'text'].replace('@USAirways','')\n",
    "    if airline == 'American':\n",
    "        data.loc[i,'text'] = data.loc[i, 'text'].replace('@AmericanAir','')"
   ]
  },
  {
   "cell_type": "code",
   "execution_count": 14,
   "metadata": {
    "ExecuteTime": {
     "end_time": "2019-10-04T20:02:38.353267Z",
     "start_time": "2019-10-04T20:02:38.274098Z"
    },
    "scrolled": true
   },
   "outputs": [
    {
     "data": {
      "text/html": [
       "<div>\n",
       "<style scoped>\n",
       "    .dataframe tbody tr th:only-of-type {\n",
       "        vertical-align: middle;\n",
       "    }\n",
       "\n",
       "    .dataframe tbody tr th {\n",
       "        vertical-align: top;\n",
       "    }\n",
       "\n",
       "    .dataframe thead th {\n",
       "        text-align: right;\n",
       "    }\n",
       "</style>\n",
       "<table border=\"1\" class=\"dataframe\">\n",
       "  <thead>\n",
       "    <tr style=\"text-align: right;\">\n",
       "      <th></th>\n",
       "      <th>airline_sentiment</th>\n",
       "      <th>airline</th>\n",
       "      <th>text</th>\n",
       "    </tr>\n",
       "  </thead>\n",
       "  <tbody>\n",
       "    <tr>\n",
       "      <th>0</th>\n",
       "      <td>neutral</td>\n",
       "      <td>Virgin America</td>\n",
       "      <td>What @dhepburn said.</td>\n",
       "    </tr>\n",
       "    <tr>\n",
       "      <th>1</th>\n",
       "      <td>positive</td>\n",
       "      <td>Virgin America</td>\n",
       "      <td>plus you've added commercials to the experience... tacky.</td>\n",
       "    </tr>\n",
       "    <tr>\n",
       "      <th>2</th>\n",
       "      <td>neutral</td>\n",
       "      <td>Virgin America</td>\n",
       "      <td>I didn't today... Must mean I need to take another trip!</td>\n",
       "    </tr>\n",
       "    <tr>\n",
       "      <th>3</th>\n",
       "      <td>negative</td>\n",
       "      <td>Virgin America</td>\n",
       "      <td>it's really aggressive to blast obnoxious \"entertainment\" in your guests' faces &amp;amp; they have little recourse</td>\n",
       "    </tr>\n",
       "    <tr>\n",
       "      <th>4</th>\n",
       "      <td>negative</td>\n",
       "      <td>Virgin America</td>\n",
       "      <td>and it's a really big bad thing about it</td>\n",
       "    </tr>\n",
       "  </tbody>\n",
       "</table>\n",
       "</div>"
      ],
      "text/plain": [
       "  airline_sentiment         airline  \\\n",
       "0  neutral           Virgin America   \n",
       "1  positive          Virgin America   \n",
       "2  neutral           Virgin America   \n",
       "3  negative          Virgin America   \n",
       "4  negative          Virgin America   \n",
       "\n",
       "                                                                                                               text  \n",
       "0   What @dhepburn said.                                                                                             \n",
       "1   plus you've added commercials to the experience... tacky.                                                        \n",
       "2   I didn't today... Must mean I need to take another trip!                                                         \n",
       "3   it's really aggressive to blast obnoxious \"entertainment\" in your guests' faces &amp; they have little recourse  \n",
       "4   and it's a really big bad thing about it                                                                         "
      ]
     },
     "execution_count": 14,
     "metadata": {},
     "output_type": "execute_result"
    }
   ],
   "source": [
    "data.head()"
   ]
  },
  {
   "cell_type": "markdown",
   "metadata": {
    "ExecuteTime": {
     "end_time": "2019-08-15T20:41:21.844364Z",
     "start_time": "2019-08-15T20:41:21.836043Z"
    }
   },
   "source": [
    "## Convert sentiment target to integers: Negative vs  Positive&Neutral"
   ]
  },
  {
   "cell_type": "code",
   "execution_count": 15,
   "metadata": {
    "ExecuteTime": {
     "end_time": "2019-10-04T20:02:38.430302Z",
     "start_time": "2019-10-04T20:02:38.401338Z"
    }
   },
   "outputs": [],
   "source": [
    "mapping_sentiment = {'neutral':1 , 'negative':0, 'positive':1}\n",
    "data['airline_sentiment'] = data['airline_sentiment'].map(mapping_sentiment)"
   ]
  },
  {
   "cell_type": "code",
   "execution_count": 16,
   "metadata": {
    "ExecuteTime": {
     "end_time": "2019-10-04T20:02:38.467609Z",
     "start_time": "2019-10-04T20:02:38.434358Z"
    }
   },
   "outputs": [
    {
     "data": {
      "text/html": [
       "<div>\n",
       "<style scoped>\n",
       "    .dataframe tbody tr th:only-of-type {\n",
       "        vertical-align: middle;\n",
       "    }\n",
       "\n",
       "    .dataframe tbody tr th {\n",
       "        vertical-align: top;\n",
       "    }\n",
       "\n",
       "    .dataframe thead th {\n",
       "        text-align: right;\n",
       "    }\n",
       "</style>\n",
       "<table border=\"1\" class=\"dataframe\">\n",
       "  <thead>\n",
       "    <tr style=\"text-align: right;\">\n",
       "      <th></th>\n",
       "      <th>airline_sentiment</th>\n",
       "      <th>airline</th>\n",
       "      <th>text</th>\n",
       "    </tr>\n",
       "  </thead>\n",
       "  <tbody>\n",
       "    <tr>\n",
       "      <th>0</th>\n",
       "      <td>1</td>\n",
       "      <td>Virgin America</td>\n",
       "      <td>What @dhepburn said.</td>\n",
       "    </tr>\n",
       "    <tr>\n",
       "      <th>1</th>\n",
       "      <td>1</td>\n",
       "      <td>Virgin America</td>\n",
       "      <td>plus you've added commercials to the experience... tacky.</td>\n",
       "    </tr>\n",
       "    <tr>\n",
       "      <th>2</th>\n",
       "      <td>1</td>\n",
       "      <td>Virgin America</td>\n",
       "      <td>I didn't today... Must mean I need to take another trip!</td>\n",
       "    </tr>\n",
       "    <tr>\n",
       "      <th>3</th>\n",
       "      <td>0</td>\n",
       "      <td>Virgin America</td>\n",
       "      <td>it's really aggressive to blast obnoxious \"entertainment\" in your guests' faces &amp;amp; they have little recourse</td>\n",
       "    </tr>\n",
       "    <tr>\n",
       "      <th>4</th>\n",
       "      <td>0</td>\n",
       "      <td>Virgin America</td>\n",
       "      <td>and it's a really big bad thing about it</td>\n",
       "    </tr>\n",
       "  </tbody>\n",
       "</table>\n",
       "</div>"
      ],
      "text/plain": [
       "   airline_sentiment         airline  \\\n",
       "0  1                  Virgin America   \n",
       "1  1                  Virgin America   \n",
       "2  1                  Virgin America   \n",
       "3  0                  Virgin America   \n",
       "4  0                  Virgin America   \n",
       "\n",
       "                                                                                                               text  \n",
       "0   What @dhepburn said.                                                                                             \n",
       "1   plus you've added commercials to the experience... tacky.                                                        \n",
       "2   I didn't today... Must mean I need to take another trip!                                                         \n",
       "3   it's really aggressive to blast obnoxious \"entertainment\" in your guests' faces &amp; they have little recourse  \n",
       "4   and it's a really big bad thing about it                                                                         "
      ]
     },
     "execution_count": 16,
     "metadata": {},
     "output_type": "execute_result"
    }
   ],
   "source": [
    "data.head()"
   ]
  },
  {
   "cell_type": "markdown",
   "metadata": {},
   "source": [
    "# Preprocessing : Text"
   ]
  },
  {
   "cell_type": "code",
   "execution_count": 17,
   "metadata": {
    "ExecuteTime": {
     "end_time": "2019-10-04T20:02:38.524461Z",
     "start_time": "2019-10-04T20:02:38.486819Z"
    }
   },
   "outputs": [
    {
     "data": {
      "text/html": [
       "<div>\n",
       "<style scoped>\n",
       "    .dataframe tbody tr th:only-of-type {\n",
       "        vertical-align: middle;\n",
       "    }\n",
       "\n",
       "    .dataframe tbody tr th {\n",
       "        vertical-align: top;\n",
       "    }\n",
       "\n",
       "    .dataframe thead th {\n",
       "        text-align: right;\n",
       "    }\n",
       "</style>\n",
       "<table border=\"1\" class=\"dataframe\">\n",
       "  <thead>\n",
       "    <tr style=\"text-align: right;\">\n",
       "      <th></th>\n",
       "      <th>airline_sentiment</th>\n",
       "      <th>text</th>\n",
       "    </tr>\n",
       "  </thead>\n",
       "  <tbody>\n",
       "    <tr>\n",
       "      <th>0</th>\n",
       "      <td>1</td>\n",
       "      <td>What @dhepburn said.</td>\n",
       "    </tr>\n",
       "    <tr>\n",
       "      <th>1</th>\n",
       "      <td>1</td>\n",
       "      <td>plus you've added commercials to the experience... tacky.</td>\n",
       "    </tr>\n",
       "    <tr>\n",
       "      <th>2</th>\n",
       "      <td>1</td>\n",
       "      <td>I didn't today... Must mean I need to take another trip!</td>\n",
       "    </tr>\n",
       "    <tr>\n",
       "      <th>3</th>\n",
       "      <td>0</td>\n",
       "      <td>it's really aggressive to blast obnoxious \"entertainment\" in your guests' faces &amp;amp; they have little recourse</td>\n",
       "    </tr>\n",
       "    <tr>\n",
       "      <th>4</th>\n",
       "      <td>0</td>\n",
       "      <td>and it's a really big bad thing about it</td>\n",
       "    </tr>\n",
       "  </tbody>\n",
       "</table>\n",
       "</div>"
      ],
      "text/plain": [
       "   airline_sentiment  \\\n",
       "0  1                   \n",
       "1  1                   \n",
       "2  1                   \n",
       "3  0                   \n",
       "4  0                   \n",
       "\n",
       "                                                                                                               text  \n",
       "0   What @dhepburn said.                                                                                             \n",
       "1   plus you've added commercials to the experience... tacky.                                                        \n",
       "2   I didn't today... Must mean I need to take another trip!                                                         \n",
       "3   it's really aggressive to blast obnoxious \"entertainment\" in your guests' faces &amp; they have little recourse  \n",
       "4   and it's a really big bad thing about it                                                                         "
      ]
     },
     "execution_count": 17,
     "metadata": {},
     "output_type": "execute_result"
    }
   ],
   "source": [
    "sentiment_text = data[['airline_sentiment','text']]\n",
    "sentiment_text.head()"
   ]
  },
  {
   "cell_type": "markdown",
   "metadata": {},
   "source": [
    "## Step 1: Removing URLs, Numbers, Punctuation, Capital Letters"
   ]
  },
  {
   "cell_type": "code",
   "execution_count": 18,
   "metadata": {
    "ExecuteTime": {
     "end_time": "2019-10-04T20:02:39.358054Z",
     "start_time": "2019-10-04T20:02:38.530764Z"
    }
   },
   "outputs": [
    {
     "name": "stderr",
     "output_type": "stream",
     "text": [
      "/Users/evaxu/anaconda3/lib/python3.7/site-packages/pandas/core/indexing.py:543: SettingWithCopyWarning: \n",
      "A value is trying to be set on a copy of a slice from a DataFrame.\n",
      "Try using .loc[row_indexer,col_indexer] = value instead\n",
      "\n",
      "See the caveats in the documentation: http://pandas.pydata.org/pandas-docs/stable/indexing.html#indexing-view-versus-copy\n",
      "  self.obj[item] = s\n"
     ]
    }
   ],
   "source": [
    "# The first document-term matrix has default Count Vectorizer values - counts of unigrams\n",
    "\n",
    "def clean_text_round1 ():\n",
    "    ''' remove: urls;\n",
    "    lowercase text;\n",
    "    remove: punctuations and numbers'''\n",
    "    \n",
    "    urls = lambda x: re.sub('https?://[A-Za-z0-9./]+','',x)\n",
    "    alphanumeric= lambda x: re.sub('\\w*\\d\\w*', ' ', x)\n",
    "    punc_lower = lambda x: re.sub('[%s]' % re.escape(string.punctuation), '', x.lower())\n",
    "    \n",
    "    # consider replacing ' ' with '' to remove space between I ' m to I'm\n",
    "    sentiment_text.loc[:,'text'] = sentiment_text.loc[:,'text'].map(urls).map(alphanumeric).map(punc_lower)\n",
    "\n",
    "clean_text_round1()"
   ]
  },
  {
   "cell_type": "code",
   "execution_count": 20,
   "metadata": {
    "ExecuteTime": {
     "end_time": "2019-10-04T20:05:43.405273Z",
     "start_time": "2019-10-04T20:04:16.991318Z"
    }
   },
   "outputs": [],
   "source": [
    "def clean_text_round2 ():\n",
    "    ''' remove words that appeared repeatedly i.e. variations of \"flight\" '''\n",
    "    \n",
    "    mask = sentiment_text.loc[:,'text'].str.contains('flighted')\n",
    "    for index, row in sentiment_text.loc[mask].iterrows(): \n",
    "        sentiment_text.loc[index,'text']=row['text'].replace('flighted', 'flight')\n",
    "    mask = sentiment_text.loc[:,'text'].str.contains('flightled')\n",
    "    for index, row in sentiment_text.loc[mask].iterrows(): \n",
    "        sentiment_text.loc[index,'text']=row['text'].replace('flightled', 'flight')\n",
    "    mask = sentiment_text.loc[:,'text'].str.contains('flights')\n",
    "    for index, row in sentiment_text.loc[mask].iterrows(): \n",
    "        sentiment_text.loc[index,'text']=row['text'].replace('flights', 'flight')\n",
    "    mask = sentiment_text.loc[:,'text'].str.contains('flightr')\n",
    "    for index, row in sentiment_text.loc[mask].iterrows(): \n",
    "        sentiment_text.loc[index,'text']=row['text'].replace('flightr', 'flight')\n",
    "    mask = sentiment_text.loc[:,'text'].str.contains('\\n')\n",
    "    for index, row in sentiment_text.loc[mask].iterrows(): \n",
    "        sentiment_text.loc[index,'text']=row['text'].replace('\\n', ' ')\n",
    "\n",
    "clean_text_round2()"
   ]
  },
  {
   "cell_type": "code",
   "execution_count": 21,
   "metadata": {
    "ExecuteTime": {
     "end_time": "2019-10-04T20:05:56.448097Z",
     "start_time": "2019-10-04T20:05:56.434438Z"
    }
   },
   "outputs": [
    {
     "data": {
      "text/html": [
       "<div>\n",
       "<style scoped>\n",
       "    .dataframe tbody tr th:only-of-type {\n",
       "        vertical-align: middle;\n",
       "    }\n",
       "\n",
       "    .dataframe tbody tr th {\n",
       "        vertical-align: top;\n",
       "    }\n",
       "\n",
       "    .dataframe thead th {\n",
       "        text-align: right;\n",
       "    }\n",
       "</style>\n",
       "<table border=\"1\" class=\"dataframe\">\n",
       "  <thead>\n",
       "    <tr style=\"text-align: right;\">\n",
       "      <th></th>\n",
       "      <th>airline_sentiment</th>\n",
       "      <th>text</th>\n",
       "    </tr>\n",
       "  </thead>\n",
       "  <tbody>\n",
       "    <tr>\n",
       "      <th>0</th>\n",
       "      <td>1</td>\n",
       "      <td>what dhepburn said</td>\n",
       "    </tr>\n",
       "    <tr>\n",
       "      <th>1</th>\n",
       "      <td>1</td>\n",
       "      <td>plus youve added commercials to the experience tacky</td>\n",
       "    </tr>\n",
       "    <tr>\n",
       "      <th>2</th>\n",
       "      <td>1</td>\n",
       "      <td>i didnt today must mean i need to take another trip</td>\n",
       "    </tr>\n",
       "    <tr>\n",
       "      <th>3</th>\n",
       "      <td>0</td>\n",
       "      <td>its really aggressive to blast obnoxious entertainment in your guests faces amp they have little recourse</td>\n",
       "    </tr>\n",
       "    <tr>\n",
       "      <th>4</th>\n",
       "      <td>0</td>\n",
       "      <td>and its a really big bad thing about it</td>\n",
       "    </tr>\n",
       "  </tbody>\n",
       "</table>\n",
       "</div>"
      ],
      "text/plain": [
       "   airline_sentiment  \\\n",
       "0  1                   \n",
       "1  1                   \n",
       "2  1                   \n",
       "3  0                   \n",
       "4  0                   \n",
       "\n",
       "                                                                                                         text  \n",
       "0   what dhepburn said                                                                                         \n",
       "1   plus youve added commercials to the experience tacky                                                       \n",
       "2   i didnt today must mean i need to take another trip                                                        \n",
       "3   its really aggressive to blast obnoxious entertainment in your guests faces amp they have little recourse  \n",
       "4   and its a really big bad thing about it                                                                    "
      ]
     },
     "execution_count": 21,
     "metadata": {},
     "output_type": "execute_result"
    }
   ],
   "source": [
    "sentiment_text.head()"
   ]
  },
  {
   "cell_type": "markdown",
   "metadata": {},
   "source": [
    "## Step 2: Considerations using tokenizing and stemming"
   ]
  },
  {
   "cell_type": "code",
   "execution_count": 22,
   "metadata": {
    "ExecuteTime": {
     "end_time": "2019-10-04T20:05:59.932770Z",
     "start_time": "2019-10-04T20:05:59.926011Z"
    }
   },
   "outputs": [],
   "source": [
    "sentiment_text_considerations = sentiment_text.copy()"
   ]
  },
  {
   "cell_type": "code",
   "execution_count": 23,
   "metadata": {
    "ExecuteTime": {
     "end_time": "2019-10-04T20:06:00.394185Z",
     "start_time": "2019-10-04T20:06:00.146687Z"
    }
   },
   "outputs": [
    {
     "data": {
      "text/html": [
       "<div>\n",
       "<style scoped>\n",
       "    .dataframe tbody tr th:only-of-type {\n",
       "        vertical-align: middle;\n",
       "    }\n",
       "\n",
       "    .dataframe tbody tr th {\n",
       "        vertical-align: top;\n",
       "    }\n",
       "\n",
       "    .dataframe thead th {\n",
       "        text-align: right;\n",
       "    }\n",
       "</style>\n",
       "<table border=\"1\" class=\"dataframe\">\n",
       "  <thead>\n",
       "    <tr style=\"text-align: right;\">\n",
       "      <th></th>\n",
       "      <th>airline_sentiment</th>\n",
       "      <th>text</th>\n",
       "    </tr>\n",
       "  </thead>\n",
       "  <tbody>\n",
       "    <tr>\n",
       "      <th>0</th>\n",
       "      <td>1</td>\n",
       "      <td>[what, dhepburn, said]</td>\n",
       "    </tr>\n",
       "    <tr>\n",
       "      <th>1</th>\n",
       "      <td>1</td>\n",
       "      <td>[plus, youve, added, commercials, to, the, experience, tacky]</td>\n",
       "    </tr>\n",
       "    <tr>\n",
       "      <th>2</th>\n",
       "      <td>1</td>\n",
       "      <td>[i, didnt, today, must, mean, i, need, to, take, another, trip]</td>\n",
       "    </tr>\n",
       "    <tr>\n",
       "      <th>3</th>\n",
       "      <td>0</td>\n",
       "      <td>[its, really, aggressive, to, blast, obnoxious, entertainment, in, your, guests, faces, amp, they, have, little, recourse]</td>\n",
       "    </tr>\n",
       "    <tr>\n",
       "      <th>4</th>\n",
       "      <td>0</td>\n",
       "      <td>[and, its, a, really, big, bad, thing, about, it]</td>\n",
       "    </tr>\n",
       "  </tbody>\n",
       "</table>\n",
       "</div>"
      ],
      "text/plain": [
       "   airline_sentiment  \\\n",
       "0  1                   \n",
       "1  1                   \n",
       "2  1                   \n",
       "3  0                   \n",
       "4  0                   \n",
       "\n",
       "                                                                                                                         text  \n",
       "0  [what, dhepburn, said]                                                                                                      \n",
       "1  [plus, youve, added, commercials, to, the, experience, tacky]                                                               \n",
       "2  [i, didnt, today, must, mean, i, need, to, take, another, trip]                                                             \n",
       "3  [its, really, aggressive, to, blast, obnoxious, entertainment, in, your, guests, faces, amp, they, have, little, recourse]  \n",
       "4  [and, its, a, really, big, bad, thing, about, it]                                                                           "
      ]
     },
     "execution_count": 23,
     "metadata": {},
     "output_type": "execute_result"
    }
   ],
   "source": [
    "# consider word tokenization and regex: whitespace\n",
    "\n",
    "whitespace_tokenizer = RegexpTokenizer('\\s+', gaps = True)\n",
    "\n",
    "whitespace_tokenizer_map = lambda x: whitespace_tokenizer.tokenize(x)\n",
    "\n",
    "sentiment_text_considerations.loc[:,'text'] = sentiment_text_considerations.loc[:,'text'].map(whitespace_tokenizer_map)\n",
    "sentiment_text_considerations.head()"
   ]
  },
  {
   "cell_type": "markdown",
   "metadata": {
    "ExecuteTime": {
     "end_time": "2019-09-26T18:14:50.872037Z",
     "start_time": "2019-09-26T18:14:50.868361Z"
    }
   },
   "source": [
    "I tried stemming, but I realized that for my data, stemming did not help:"
   ]
  },
  {
   "cell_type": "code",
   "execution_count": 24,
   "metadata": {
    "ExecuteTime": {
     "end_time": "2019-10-04T20:06:02.658928Z",
     "start_time": "2019-10-04T20:06:02.650510Z"
    }
   },
   "outputs": [],
   "source": [
    "# cleans text further to the form of a root word\n",
    "stemmer = LancasterStemmer() \n",
    "stemmer_text = lambda x: stemmer.stem(x)\n",
    "# sent_text_clean.loc[:,'text_stemmed'] = sent_text_clean.loc[:,'text'].map(stemmer_text)"
   ]
  },
  {
   "cell_type": "code",
   "execution_count": 25,
   "metadata": {
    "ExecuteTime": {
     "end_time": "2019-10-04T20:06:04.026895Z",
     "start_time": "2019-10-04T20:06:04.010740Z"
    }
   },
   "outputs": [
    {
     "data": {
      "text/plain": [
       "['plu', 'youv', 'ad', 'commerc', 'to', 'the', 'expery', 'tacky']"
      ]
     },
     "execution_count": 25,
     "metadata": {},
     "output_type": "execute_result"
    }
   ],
   "source": [
    "test_stem = sentiment_text_considerations.loc[1,'text']\n",
    "[stemmer.stem(x) for x in test_stem]"
   ]
  },
  {
   "cell_type": "markdown",
   "metadata": {},
   "source": [
    "## Pickle cleaned tweets"
   ]
  },
  {
   "cell_type": "markdown",
   "metadata": {},
   "source": [
    "I decided stemming was unnecessary, and that sentiment_text was the best preprocessed copy of my dataframe."
   ]
  },
  {
   "cell_type": "code",
   "execution_count": 26,
   "metadata": {
    "ExecuteTime": {
     "end_time": "2019-10-04T20:06:18.954716Z",
     "start_time": "2019-10-04T20:06:18.910755Z"
    }
   },
   "outputs": [],
   "source": [
    "with open('./sentiment_text.pkl','wb') as picklefile:\n",
    "    pickle.dump(sentiment_text, picklefile)"
   ]
  },
  {
   "cell_type": "markdown",
   "metadata": {},
   "source": [
    "# Tokenization"
   ]
  },
  {
   "cell_type": "markdown",
   "metadata": {},
   "source": [
    "## Train Test Split"
   ]
  },
  {
   "cell_type": "code",
   "execution_count": 28,
   "metadata": {
    "ExecuteTime": {
     "end_time": "2019-10-04T20:08:23.021133Z",
     "start_time": "2019-10-04T20:08:23.015747Z"
    }
   },
   "outputs": [],
   "source": [
    "# Split the data into X and y data sets\n",
    "X = sentiment_text['text']\n",
    "y = sentiment_text['airline_sentiment']"
   ]
  },
  {
   "cell_type": "code",
   "execution_count": 29,
   "metadata": {
    "ExecuteTime": {
     "end_time": "2019-10-04T20:08:23.426870Z",
     "start_time": "2019-10-04T20:08:23.401850Z"
    }
   },
   "outputs": [],
   "source": [
    "# Split the data into training and test sets\n",
    "from sklearn.model_selection import train_test_split\n",
    "X_train, X_test, y_train, y_test = train_test_split(X, y, test_size=0.3, random_state=42)"
   ]
  },
  {
   "cell_type": "markdown",
   "metadata": {},
   "source": [
    "## Count Vectorizer (removed stopwords)"
   ]
  },
  {
   "cell_type": "code",
   "execution_count": 30,
   "metadata": {
    "ExecuteTime": {
     "end_time": "2019-10-04T20:08:25.824785Z",
     "start_time": "2019-10-04T20:08:25.480857Z"
    }
   },
   "outputs": [],
   "source": [
    "cv = CountVectorizer(stop_words='english')\n",
    "X_train_cv= cv.fit_transform(X_train)\n",
    "X_test_cv= cv.transform(X_test)"
   ]
  },
  {
   "cell_type": "code",
   "execution_count": 31,
   "metadata": {
    "ExecuteTime": {
     "end_time": "2019-10-04T20:08:25.910204Z",
     "start_time": "2019-10-04T20:08:25.892842Z"
    }
   },
   "outputs": [
    {
     "data": {
      "text/plain": [
       "(10139, 10377)"
      ]
     },
     "execution_count": 31,
     "metadata": {},
     "output_type": "execute_result"
    }
   ],
   "source": [
    "X_train_cv.shape"
   ]
  },
  {
   "cell_type": "code",
   "execution_count": 39,
   "metadata": {
    "ExecuteTime": {
     "end_time": "2019-10-04T20:09:09.347617Z",
     "start_time": "2019-10-04T20:09:08.755276Z"
    },
    "scrolled": true
   },
   "outputs": [],
   "source": [
    "cv_df = pd.DataFrame(X_train_cv.toarray(), columns=cv.get_feature_names()).head(5)"
   ]
  },
  {
   "cell_type": "code",
   "execution_count": 40,
   "metadata": {
    "ExecuteTime": {
     "end_time": "2019-10-04T20:09:10.697622Z",
     "start_time": "2019-10-04T20:09:10.638391Z"
    },
    "scrolled": true
   },
   "outputs": [
    {
     "data": {
      "text/html": [
       "<div>\n",
       "<style scoped>\n",
       "    .dataframe tbody tr th:only-of-type {\n",
       "        vertical-align: middle;\n",
       "    }\n",
       "\n",
       "    .dataframe tbody tr th {\n",
       "        vertical-align: top;\n",
       "    }\n",
       "\n",
       "    .dataframe thead th {\n",
       "        text-align: right;\n",
       "    }\n",
       "</style>\n",
       "<table border=\"1\" class=\"dataframe\">\n",
       "  <thead>\n",
       "    <tr style=\"text-align: right;\">\n",
       "      <th></th>\n",
       "      <th>aa</th>\n",
       "      <th>aaaand</th>\n",
       "      <th>aaalwayslate</th>\n",
       "      <th>aaba</th>\n",
       "      <th>aacom</th>\n",
       "      <th>aacustomerservice</th>\n",
       "      <th>aadfw</th>\n",
       "      <th>aadv</th>\n",
       "      <th>aadvantage</th>\n",
       "      <th>aafail</th>\n",
       "      <th>...</th>\n",
       "      <th>zfv</th>\n",
       "      <th>zigzagging</th>\n",
       "      <th>zip</th>\n",
       "      <th>zkatcher</th>\n",
       "      <th>zone</th>\n",
       "      <th>zones</th>\n",
       "      <th>zoom</th>\n",
       "      <th>zrhairport</th>\n",
       "      <th>zurich</th>\n",
       "      <th>zurichnew</th>\n",
       "    </tr>\n",
       "  </thead>\n",
       "  <tbody>\n",
       "    <tr>\n",
       "      <th>0</th>\n",
       "      <td>0</td>\n",
       "      <td>0</td>\n",
       "      <td>0</td>\n",
       "      <td>0</td>\n",
       "      <td>0</td>\n",
       "      <td>0</td>\n",
       "      <td>0</td>\n",
       "      <td>0</td>\n",
       "      <td>0</td>\n",
       "      <td>0</td>\n",
       "      <td>...</td>\n",
       "      <td>0</td>\n",
       "      <td>0</td>\n",
       "      <td>0</td>\n",
       "      <td>0</td>\n",
       "      <td>0</td>\n",
       "      <td>0</td>\n",
       "      <td>0</td>\n",
       "      <td>0</td>\n",
       "      <td>0</td>\n",
       "      <td>0</td>\n",
       "    </tr>\n",
       "    <tr>\n",
       "      <th>1</th>\n",
       "      <td>0</td>\n",
       "      <td>0</td>\n",
       "      <td>0</td>\n",
       "      <td>0</td>\n",
       "      <td>0</td>\n",
       "      <td>0</td>\n",
       "      <td>0</td>\n",
       "      <td>0</td>\n",
       "      <td>0</td>\n",
       "      <td>0</td>\n",
       "      <td>...</td>\n",
       "      <td>0</td>\n",
       "      <td>0</td>\n",
       "      <td>0</td>\n",
       "      <td>0</td>\n",
       "      <td>0</td>\n",
       "      <td>0</td>\n",
       "      <td>0</td>\n",
       "      <td>0</td>\n",
       "      <td>0</td>\n",
       "      <td>0</td>\n",
       "    </tr>\n",
       "    <tr>\n",
       "      <th>2</th>\n",
       "      <td>0</td>\n",
       "      <td>0</td>\n",
       "      <td>0</td>\n",
       "      <td>0</td>\n",
       "      <td>0</td>\n",
       "      <td>0</td>\n",
       "      <td>0</td>\n",
       "      <td>0</td>\n",
       "      <td>0</td>\n",
       "      <td>0</td>\n",
       "      <td>...</td>\n",
       "      <td>0</td>\n",
       "      <td>0</td>\n",
       "      <td>0</td>\n",
       "      <td>0</td>\n",
       "      <td>0</td>\n",
       "      <td>0</td>\n",
       "      <td>0</td>\n",
       "      <td>0</td>\n",
       "      <td>0</td>\n",
       "      <td>0</td>\n",
       "    </tr>\n",
       "    <tr>\n",
       "      <th>3</th>\n",
       "      <td>0</td>\n",
       "      <td>0</td>\n",
       "      <td>0</td>\n",
       "      <td>0</td>\n",
       "      <td>0</td>\n",
       "      <td>0</td>\n",
       "      <td>0</td>\n",
       "      <td>0</td>\n",
       "      <td>0</td>\n",
       "      <td>0</td>\n",
       "      <td>...</td>\n",
       "      <td>0</td>\n",
       "      <td>0</td>\n",
       "      <td>0</td>\n",
       "      <td>0</td>\n",
       "      <td>0</td>\n",
       "      <td>0</td>\n",
       "      <td>0</td>\n",
       "      <td>0</td>\n",
       "      <td>0</td>\n",
       "      <td>0</td>\n",
       "    </tr>\n",
       "    <tr>\n",
       "      <th>4</th>\n",
       "      <td>0</td>\n",
       "      <td>0</td>\n",
       "      <td>0</td>\n",
       "      <td>0</td>\n",
       "      <td>0</td>\n",
       "      <td>0</td>\n",
       "      <td>0</td>\n",
       "      <td>0</td>\n",
       "      <td>0</td>\n",
       "      <td>0</td>\n",
       "      <td>...</td>\n",
       "      <td>0</td>\n",
       "      <td>0</td>\n",
       "      <td>0</td>\n",
       "      <td>0</td>\n",
       "      <td>0</td>\n",
       "      <td>0</td>\n",
       "      <td>0</td>\n",
       "      <td>0</td>\n",
       "      <td>0</td>\n",
       "      <td>0</td>\n",
       "    </tr>\n",
       "  </tbody>\n",
       "</table>\n",
       "<p>5 rows × 10377 columns</p>\n",
       "</div>"
      ],
      "text/plain": [
       "   aa  aaaand  aaalwayslate  aaba  aacom  aacustomerservice  aadfw  aadv  \\\n",
       "0  0   0       0             0     0      0                  0      0      \n",
       "1  0   0       0             0     0      0                  0      0      \n",
       "2  0   0       0             0     0      0                  0      0      \n",
       "3  0   0       0             0     0      0                  0      0      \n",
       "4  0   0       0             0     0      0                  0      0      \n",
       "\n",
       "   aadvantage  aafail  ...  zfv  zigzagging  zip  zkatcher  zone  zones  zoom  \\\n",
       "0  0           0       ...  0    0           0    0         0     0      0      \n",
       "1  0           0       ...  0    0           0    0         0     0      0      \n",
       "2  0           0       ...  0    0           0    0         0     0      0      \n",
       "3  0           0       ...  0    0           0    0         0     0      0      \n",
       "4  0           0       ...  0    0           0    0         0     0      0      \n",
       "\n",
       "   zrhairport  zurich  zurichnew  \n",
       "0  0           0       0          \n",
       "1  0           0       0          \n",
       "2  0           0       0          \n",
       "3  0           0       0          \n",
       "4  0           0       0          \n",
       "\n",
       "[5 rows x 10377 columns]"
      ]
     },
     "execution_count": 40,
     "metadata": {},
     "output_type": "execute_result"
    }
   ],
   "source": [
    "cv_df"
   ]
  },
  {
   "cell_type": "markdown",
   "metadata": {},
   "source": [
    "## TF-IDF Vectorizer (removed stopwords)"
   ]
  },
  {
   "cell_type": "code",
   "execution_count": 41,
   "metadata": {
    "ExecuteTime": {
     "end_time": "2019-10-04T20:09:15.591928Z",
     "start_time": "2019-10-04T20:09:13.954252Z"
    }
   },
   "outputs": [],
   "source": [
    "tfidf = TfidfVectorizer(stop_words='english')\n",
    "tfidf_fit = tfidf.fit(X_train)\n",
    "X_train_tfidf = tfidf.fit_transform(X_train)\n",
    "X_test_tfidf= tfidf.transform(X_test)\n",
    "\n",
    "tfidf_all = TfidfVectorizer(stop_words='english')\n",
    "X_all = tfidf_all.fit_transform(sentiment_text.iloc[:,1])\n"
   ]
  },
  {
   "cell_type": "code",
   "execution_count": 42,
   "metadata": {
    "ExecuteTime": {
     "end_time": "2019-10-04T20:09:16.271154Z",
     "start_time": "2019-10-04T20:09:15.627255Z"
    },
    "scrolled": true
   },
   "outputs": [],
   "source": [
    "tfidf_df = pd.DataFrame(X_train_tfidf.toarray(), index=X_train, columns=tfidf.get_feature_names()).head(10)"
   ]
  },
  {
   "cell_type": "code",
   "execution_count": 43,
   "metadata": {
    "ExecuteTime": {
     "end_time": "2019-10-04T20:09:16.382502Z",
     "start_time": "2019-10-04T20:09:16.274428Z"
    }
   },
   "outputs": [
    {
     "data": {
      "text/html": [
       "<div>\n",
       "<style scoped>\n",
       "    .dataframe tbody tr th:only-of-type {\n",
       "        vertical-align: middle;\n",
       "    }\n",
       "\n",
       "    .dataframe tbody tr th {\n",
       "        vertical-align: top;\n",
       "    }\n",
       "\n",
       "    .dataframe thead th {\n",
       "        text-align: right;\n",
       "    }\n",
       "</style>\n",
       "<table border=\"1\" class=\"dataframe\">\n",
       "  <thead>\n",
       "    <tr style=\"text-align: right;\">\n",
       "      <th></th>\n",
       "      <th>aa</th>\n",
       "      <th>aaaand</th>\n",
       "      <th>aaalwayslate</th>\n",
       "      <th>aaba</th>\n",
       "      <th>aacom</th>\n",
       "      <th>aacustomerservice</th>\n",
       "      <th>aadfw</th>\n",
       "      <th>aadv</th>\n",
       "      <th>aadvantage</th>\n",
       "      <th>aafail</th>\n",
       "      <th>...</th>\n",
       "      <th>zfv</th>\n",
       "      <th>zigzagging</th>\n",
       "      <th>zip</th>\n",
       "      <th>zkatcher</th>\n",
       "      <th>zone</th>\n",
       "      <th>zones</th>\n",
       "      <th>zoom</th>\n",
       "      <th>zrhairport</th>\n",
       "      <th>zurich</th>\n",
       "      <th>zurichnew</th>\n",
       "    </tr>\n",
       "    <tr>\n",
       "      <th>text</th>\n",
       "      <th></th>\n",
       "      <th></th>\n",
       "      <th></th>\n",
       "      <th></th>\n",
       "      <th></th>\n",
       "      <th></th>\n",
       "      <th></th>\n",
       "      <th></th>\n",
       "      <th></th>\n",
       "      <th></th>\n",
       "      <th></th>\n",
       "      <th></th>\n",
       "      <th></th>\n",
       "      <th></th>\n",
       "      <th></th>\n",
       "      <th></th>\n",
       "      <th></th>\n",
       "      <th></th>\n",
       "      <th></th>\n",
       "      <th></th>\n",
       "      <th></th>\n",
       "    </tr>\n",
       "  </thead>\n",
       "  <tbody>\n",
       "    <tr>\n",
       "      <th>yep they moved me to   as they showed me flying standby</th>\n",
       "      <td>0.0</td>\n",
       "      <td>0.0</td>\n",
       "      <td>0.0</td>\n",
       "      <td>0.0</td>\n",
       "      <td>0.0</td>\n",
       "      <td>0.0</td>\n",
       "      <td>0.0</td>\n",
       "      <td>0.0</td>\n",
       "      <td>0.0</td>\n",
       "      <td>0.0</td>\n",
       "      <td>...</td>\n",
       "      <td>0.0</td>\n",
       "      <td>0.0</td>\n",
       "      <td>0.0</td>\n",
       "      <td>0.0</td>\n",
       "      <td>0.0</td>\n",
       "      <td>0.0</td>\n",
       "      <td>0.0</td>\n",
       "      <td>0.0</td>\n",
       "      <td>0.0</td>\n",
       "      <td>0.0</td>\n",
       "    </tr>\n",
       "    <tr>\n",
       "      <th>i dmed you the details</th>\n",
       "      <td>0.0</td>\n",
       "      <td>0.0</td>\n",
       "      <td>0.0</td>\n",
       "      <td>0.0</td>\n",
       "      <td>0.0</td>\n",
       "      <td>0.0</td>\n",
       "      <td>0.0</td>\n",
       "      <td>0.0</td>\n",
       "      <td>0.0</td>\n",
       "      <td>0.0</td>\n",
       "      <td>...</td>\n",
       "      <td>0.0</td>\n",
       "      <td>0.0</td>\n",
       "      <td>0.0</td>\n",
       "      <td>0.0</td>\n",
       "      <td>0.0</td>\n",
       "      <td>0.0</td>\n",
       "      <td>0.0</td>\n",
       "      <td>0.0</td>\n",
       "      <td>0.0</td>\n",
       "      <td>0.0</td>\n",
       "    </tr>\n",
       "    <tr>\n",
       "      <th>thanks</th>\n",
       "      <td>0.0</td>\n",
       "      <td>0.0</td>\n",
       "      <td>0.0</td>\n",
       "      <td>0.0</td>\n",
       "      <td>0.0</td>\n",
       "      <td>0.0</td>\n",
       "      <td>0.0</td>\n",
       "      <td>0.0</td>\n",
       "      <td>0.0</td>\n",
       "      <td>0.0</td>\n",
       "      <td>...</td>\n",
       "      <td>0.0</td>\n",
       "      <td>0.0</td>\n",
       "      <td>0.0</td>\n",
       "      <td>0.0</td>\n",
       "      <td>0.0</td>\n",
       "      <td>0.0</td>\n",
       "      <td>0.0</td>\n",
       "      <td>0.0</td>\n",
       "      <td>0.0</td>\n",
       "      <td>0.0</td>\n",
       "    </tr>\n",
       "    <tr>\n",
       "      <th>likelihood of phl to bdl actually leaving tonight   hour delay so far</th>\n",
       "      <td>0.0</td>\n",
       "      <td>0.0</td>\n",
       "      <td>0.0</td>\n",
       "      <td>0.0</td>\n",
       "      <td>0.0</td>\n",
       "      <td>0.0</td>\n",
       "      <td>0.0</td>\n",
       "      <td>0.0</td>\n",
       "      <td>0.0</td>\n",
       "      <td>0.0</td>\n",
       "      <td>...</td>\n",
       "      <td>0.0</td>\n",
       "      <td>0.0</td>\n",
       "      <td>0.0</td>\n",
       "      <td>0.0</td>\n",
       "      <td>0.0</td>\n",
       "      <td>0.0</td>\n",
       "      <td>0.0</td>\n",
       "      <td>0.0</td>\n",
       "      <td>0.0</td>\n",
       "      <td>0.0</td>\n",
       "    </tr>\n",
       "    <tr>\n",
       "      <th>want to make my day  friend is premier amp i should be soon any chance you can upgrade our two   hr leg of flight to ecom plus</th>\n",
       "      <td>0.0</td>\n",
       "      <td>0.0</td>\n",
       "      <td>0.0</td>\n",
       "      <td>0.0</td>\n",
       "      <td>0.0</td>\n",
       "      <td>0.0</td>\n",
       "      <td>0.0</td>\n",
       "      <td>0.0</td>\n",
       "      <td>0.0</td>\n",
       "      <td>0.0</td>\n",
       "      <td>...</td>\n",
       "      <td>0.0</td>\n",
       "      <td>0.0</td>\n",
       "      <td>0.0</td>\n",
       "      <td>0.0</td>\n",
       "      <td>0.0</td>\n",
       "      <td>0.0</td>\n",
       "      <td>0.0</td>\n",
       "      <td>0.0</td>\n",
       "      <td>0.0</td>\n",
       "      <td>0.0</td>\n",
       "    </tr>\n",
       "  </tbody>\n",
       "</table>\n",
       "<p>5 rows × 10377 columns</p>\n",
       "</div>"
      ],
      "text/plain": [
       "                                                                                                                                  aa  \\\n",
       "text                                                                                                                                   \n",
       " yep they moved me to   as they showed me flying standby                                                                         0.0   \n",
       " i dmed you the details                                                                                                          0.0   \n",
       " thanks                                                                                                                          0.0   \n",
       " likelihood of phl to bdl actually leaving tonight   hour delay so far                                                           0.0   \n",
       " want to make my day  friend is premier amp i should be soon any chance you can upgrade our two   hr leg of flight to ecom plus  0.0   \n",
       "\n",
       "                                                                                                                                 aaaand  \\\n",
       "text                                                                                                                                      \n",
       " yep they moved me to   as they showed me flying standby                                                                         0.0      \n",
       " i dmed you the details                                                                                                          0.0      \n",
       " thanks                                                                                                                          0.0      \n",
       " likelihood of phl to bdl actually leaving tonight   hour delay so far                                                           0.0      \n",
       " want to make my day  friend is premier amp i should be soon any chance you can upgrade our two   hr leg of flight to ecom plus  0.0      \n",
       "\n",
       "                                                                                                                                 aaalwayslate  \\\n",
       "text                                                                                                                                            \n",
       " yep they moved me to   as they showed me flying standby                                                                         0.0            \n",
       " i dmed you the details                                                                                                          0.0            \n",
       " thanks                                                                                                                          0.0            \n",
       " likelihood of phl to bdl actually leaving tonight   hour delay so far                                                           0.0            \n",
       " want to make my day  friend is premier amp i should be soon any chance you can upgrade our two   hr leg of flight to ecom plus  0.0            \n",
       "\n",
       "                                                                                                                                 aaba  \\\n",
       "text                                                                                                                                    \n",
       " yep they moved me to   as they showed me flying standby                                                                         0.0    \n",
       " i dmed you the details                                                                                                          0.0    \n",
       " thanks                                                                                                                          0.0    \n",
       " likelihood of phl to bdl actually leaving tonight   hour delay so far                                                           0.0    \n",
       " want to make my day  friend is premier amp i should be soon any chance you can upgrade our two   hr leg of flight to ecom plus  0.0    \n",
       "\n",
       "                                                                                                                                 aacom  \\\n",
       "text                                                                                                                                     \n",
       " yep they moved me to   as they showed me flying standby                                                                         0.0     \n",
       " i dmed you the details                                                                                                          0.0     \n",
       " thanks                                                                                                                          0.0     \n",
       " likelihood of phl to bdl actually leaving tonight   hour delay so far                                                           0.0     \n",
       " want to make my day  friend is premier amp i should be soon any chance you can upgrade our two   hr leg of flight to ecom plus  0.0     \n",
       "\n",
       "                                                                                                                                 aacustomerservice  \\\n",
       "text                                                                                                                                                 \n",
       " yep they moved me to   as they showed me flying standby                                                                         0.0                 \n",
       " i dmed you the details                                                                                                          0.0                 \n",
       " thanks                                                                                                                          0.0                 \n",
       " likelihood of phl to bdl actually leaving tonight   hour delay so far                                                           0.0                 \n",
       " want to make my day  friend is premier amp i should be soon any chance you can upgrade our two   hr leg of flight to ecom plus  0.0                 \n",
       "\n",
       "                                                                                                                                 aadfw  \\\n",
       "text                                                                                                                                     \n",
       " yep they moved me to   as they showed me flying standby                                                                         0.0     \n",
       " i dmed you the details                                                                                                          0.0     \n",
       " thanks                                                                                                                          0.0     \n",
       " likelihood of phl to bdl actually leaving tonight   hour delay so far                                                           0.0     \n",
       " want to make my day  friend is premier amp i should be soon any chance you can upgrade our two   hr leg of flight to ecom plus  0.0     \n",
       "\n",
       "                                                                                                                                 aadv  \\\n",
       "text                                                                                                                                    \n",
       " yep they moved me to   as they showed me flying standby                                                                         0.0    \n",
       " i dmed you the details                                                                                                          0.0    \n",
       " thanks                                                                                                                          0.0    \n",
       " likelihood of phl to bdl actually leaving tonight   hour delay so far                                                           0.0    \n",
       " want to make my day  friend is premier amp i should be soon any chance you can upgrade our two   hr leg of flight to ecom plus  0.0    \n",
       "\n",
       "                                                                                                                                 aadvantage  \\\n",
       "text                                                                                                                                          \n",
       " yep they moved me to   as they showed me flying standby                                                                         0.0          \n",
       " i dmed you the details                                                                                                          0.0          \n",
       " thanks                                                                                                                          0.0          \n",
       " likelihood of phl to bdl actually leaving tonight   hour delay so far                                                           0.0          \n",
       " want to make my day  friend is premier amp i should be soon any chance you can upgrade our two   hr leg of flight to ecom plus  0.0          \n",
       "\n",
       "                                                                                                                                 aafail  \\\n",
       "text                                                                                                                                      \n",
       " yep they moved me to   as they showed me flying standby                                                                         0.0      \n",
       " i dmed you the details                                                                                                          0.0      \n",
       " thanks                                                                                                                          0.0      \n",
       " likelihood of phl to bdl actually leaving tonight   hour delay so far                                                           0.0      \n",
       " want to make my day  friend is premier amp i should be soon any chance you can upgrade our two   hr leg of flight to ecom plus  0.0      \n",
       "\n",
       "                                                                                                                                 ...  \\\n",
       "text                                                                                                                             ...   \n",
       " yep they moved me to   as they showed me flying standby                                                                         ...   \n",
       " i dmed you the details                                                                                                          ...   \n",
       " thanks                                                                                                                          ...   \n",
       " likelihood of phl to bdl actually leaving tonight   hour delay so far                                                           ...   \n",
       " want to make my day  friend is premier amp i should be soon any chance you can upgrade our two   hr leg of flight to ecom plus  ...   \n",
       "\n",
       "                                                                                                                                 zfv  \\\n",
       "text                                                                                                                                   \n",
       " yep they moved me to   as they showed me flying standby                                                                         0.0   \n",
       " i dmed you the details                                                                                                          0.0   \n",
       " thanks                                                                                                                          0.0   \n",
       " likelihood of phl to bdl actually leaving tonight   hour delay so far                                                           0.0   \n",
       " want to make my day  friend is premier amp i should be soon any chance you can upgrade our two   hr leg of flight to ecom plus  0.0   \n",
       "\n",
       "                                                                                                                                 zigzagging  \\\n",
       "text                                                                                                                                          \n",
       " yep they moved me to   as they showed me flying standby                                                                         0.0          \n",
       " i dmed you the details                                                                                                          0.0          \n",
       " thanks                                                                                                                          0.0          \n",
       " likelihood of phl to bdl actually leaving tonight   hour delay so far                                                           0.0          \n",
       " want to make my day  friend is premier amp i should be soon any chance you can upgrade our two   hr leg of flight to ecom plus  0.0          \n",
       "\n",
       "                                                                                                                                 zip  \\\n",
       "text                                                                                                                                   \n",
       " yep they moved me to   as they showed me flying standby                                                                         0.0   \n",
       " i dmed you the details                                                                                                          0.0   \n",
       " thanks                                                                                                                          0.0   \n",
       " likelihood of phl to bdl actually leaving tonight   hour delay so far                                                           0.0   \n",
       " want to make my day  friend is premier amp i should be soon any chance you can upgrade our two   hr leg of flight to ecom plus  0.0   \n",
       "\n",
       "                                                                                                                                 zkatcher  \\\n",
       "text                                                                                                                                        \n",
       " yep they moved me to   as they showed me flying standby                                                                         0.0        \n",
       " i dmed you the details                                                                                                          0.0        \n",
       " thanks                                                                                                                          0.0        \n",
       " likelihood of phl to bdl actually leaving tonight   hour delay so far                                                           0.0        \n",
       " want to make my day  friend is premier amp i should be soon any chance you can upgrade our two   hr leg of flight to ecom plus  0.0        \n",
       "\n",
       "                                                                                                                                 zone  \\\n",
       "text                                                                                                                                    \n",
       " yep they moved me to   as they showed me flying standby                                                                         0.0    \n",
       " i dmed you the details                                                                                                          0.0    \n",
       " thanks                                                                                                                          0.0    \n",
       " likelihood of phl to bdl actually leaving tonight   hour delay so far                                                           0.0    \n",
       " want to make my day  friend is premier amp i should be soon any chance you can upgrade our two   hr leg of flight to ecom plus  0.0    \n",
       "\n",
       "                                                                                                                                 zones  \\\n",
       "text                                                                                                                                     \n",
       " yep they moved me to   as they showed me flying standby                                                                         0.0     \n",
       " i dmed you the details                                                                                                          0.0     \n",
       " thanks                                                                                                                          0.0     \n",
       " likelihood of phl to bdl actually leaving tonight   hour delay so far                                                           0.0     \n",
       " want to make my day  friend is premier amp i should be soon any chance you can upgrade our two   hr leg of flight to ecom plus  0.0     \n",
       "\n",
       "                                                                                                                                 zoom  \\\n",
       "text                                                                                                                                    \n",
       " yep they moved me to   as they showed me flying standby                                                                         0.0    \n",
       " i dmed you the details                                                                                                          0.0    \n",
       " thanks                                                                                                                          0.0    \n",
       " likelihood of phl to bdl actually leaving tonight   hour delay so far                                                           0.0    \n",
       " want to make my day  friend is premier amp i should be soon any chance you can upgrade our two   hr leg of flight to ecom plus  0.0    \n",
       "\n",
       "                                                                                                                                 zrhairport  \\\n",
       "text                                                                                                                                          \n",
       " yep they moved me to   as they showed me flying standby                                                                         0.0          \n",
       " i dmed you the details                                                                                                          0.0          \n",
       " thanks                                                                                                                          0.0          \n",
       " likelihood of phl to bdl actually leaving tonight   hour delay so far                                                           0.0          \n",
       " want to make my day  friend is premier amp i should be soon any chance you can upgrade our two   hr leg of flight to ecom plus  0.0          \n",
       "\n",
       "                                                                                                                                 zurich  \\\n",
       "text                                                                                                                                      \n",
       " yep they moved me to   as they showed me flying standby                                                                         0.0      \n",
       " i dmed you the details                                                                                                          0.0      \n",
       " thanks                                                                                                                          0.0      \n",
       " likelihood of phl to bdl actually leaving tonight   hour delay so far                                                           0.0      \n",
       " want to make my day  friend is premier amp i should be soon any chance you can upgrade our two   hr leg of flight to ecom plus  0.0      \n",
       "\n",
       "                                                                                                                                 zurichnew  \n",
       "text                                                                                                                                        \n",
       " yep they moved me to   as they showed me flying standby                                                                         0.0        \n",
       " i dmed you the details                                                                                                          0.0        \n",
       " thanks                                                                                                                          0.0        \n",
       " likelihood of phl to bdl actually leaving tonight   hour delay so far                                                           0.0        \n",
       " want to make my day  friend is premier amp i should be soon any chance you can upgrade our two   hr leg of flight to ecom plus  0.0        \n",
       "\n",
       "[5 rows x 10377 columns]"
      ]
     },
     "execution_count": 43,
     "metadata": {},
     "output_type": "execute_result"
    }
   ],
   "source": [
    "tfidf_df.head()"
   ]
  },
  {
   "cell_type": "markdown",
   "metadata": {},
   "source": [
    "## TF-IDF Vectorizer with 2ngram"
   ]
  },
  {
   "cell_type": "code",
   "execution_count": 44,
   "metadata": {
    "ExecuteTime": {
     "end_time": "2019-10-04T20:09:21.924651Z",
     "start_time": "2019-10-04T20:09:21.298594Z"
    }
   },
   "outputs": [],
   "source": [
    "tfidf_2ngram = TfidfVectorizer(stop_words='english',ngram_range=(2,2))\n",
    "\n",
    "X_train_tfidf_2ngram = tfidf_2ngram.fit_transform(X_train)\n",
    "X_test_tfidf_2ngram= tfidf_2ngram.transform(X_test)"
   ]
  },
  {
   "cell_type": "code",
   "execution_count": 45,
   "metadata": {
    "ExecuteTime": {
     "end_time": "2019-10-04T20:09:22.537778Z",
     "start_time": "2019-10-04T20:09:21.930027Z"
    }
   },
   "outputs": [],
   "source": [
    "tfidf_df_2ngram = pd.DataFrame(X_train_tfidf_2ngram.toarray(), index=X_train, columns=tfidf_2ngram.get_feature_names()).head(10)"
   ]
  },
  {
   "cell_type": "code",
   "execution_count": 46,
   "metadata": {
    "ExecuteTime": {
     "end_time": "2019-10-04T20:09:22.644018Z",
     "start_time": "2019-10-04T20:09:22.543162Z"
    },
    "scrolled": true
   },
   "outputs": [
    {
     "data": {
      "text/html": [
       "<div>\n",
       "<style scoped>\n",
       "    .dataframe tbody tr th:only-of-type {\n",
       "        vertical-align: middle;\n",
       "    }\n",
       "\n",
       "    .dataframe tbody tr th {\n",
       "        vertical-align: top;\n",
       "    }\n",
       "\n",
       "    .dataframe thead th {\n",
       "        text-align: right;\n",
       "    }\n",
       "</style>\n",
       "<table border=\"1\" class=\"dataframe\">\n",
       "  <thead>\n",
       "    <tr style=\"text-align: right;\">\n",
       "      <th></th>\n",
       "      <th>aa able</th>\n",
       "      <th>aa account</th>\n",
       "      <th>aa accounts</th>\n",
       "      <th>aa advantage</th>\n",
       "      <th>aa agent</th>\n",
       "      <th>aa agents</th>\n",
       "      <th>aa air</th>\n",
       "      <th>aa airline</th>\n",
       "      <th>aa amp</th>\n",
       "      <th>aa automated</th>\n",
       "      <th>...</th>\n",
       "      <th>zone forced</th>\n",
       "      <th>zone space</th>\n",
       "      <th>zones thanks</th>\n",
       "      <th>zoom sauce</th>\n",
       "      <th>zoom scroll</th>\n",
       "      <th>zrhairport replacing</th>\n",
       "      <th>zurich credit</th>\n",
       "      <th>zurich jfk</th>\n",
       "      <th>zurich zrhairport</th>\n",
       "      <th>zurichnew york</th>\n",
       "    </tr>\n",
       "    <tr>\n",
       "      <th>text</th>\n",
       "      <th></th>\n",
       "      <th></th>\n",
       "      <th></th>\n",
       "      <th></th>\n",
       "      <th></th>\n",
       "      <th></th>\n",
       "      <th></th>\n",
       "      <th></th>\n",
       "      <th></th>\n",
       "      <th></th>\n",
       "      <th></th>\n",
       "      <th></th>\n",
       "      <th></th>\n",
       "      <th></th>\n",
       "      <th></th>\n",
       "      <th></th>\n",
       "      <th></th>\n",
       "      <th></th>\n",
       "      <th></th>\n",
       "      <th></th>\n",
       "      <th></th>\n",
       "    </tr>\n",
       "  </thead>\n",
       "  <tbody>\n",
       "    <tr>\n",
       "      <th>yep they moved me to   as they showed me flying standby</th>\n",
       "      <td>0.0</td>\n",
       "      <td>0.0</td>\n",
       "      <td>0.0</td>\n",
       "      <td>0.0</td>\n",
       "      <td>0.0</td>\n",
       "      <td>0.0</td>\n",
       "      <td>0.0</td>\n",
       "      <td>0.0</td>\n",
       "      <td>0.0</td>\n",
       "      <td>0.0</td>\n",
       "      <td>...</td>\n",
       "      <td>0.0</td>\n",
       "      <td>0.0</td>\n",
       "      <td>0.0</td>\n",
       "      <td>0.0</td>\n",
       "      <td>0.0</td>\n",
       "      <td>0.0</td>\n",
       "      <td>0.0</td>\n",
       "      <td>0.0</td>\n",
       "      <td>0.0</td>\n",
       "      <td>0.0</td>\n",
       "    </tr>\n",
       "    <tr>\n",
       "      <th>i dmed you the details</th>\n",
       "      <td>0.0</td>\n",
       "      <td>0.0</td>\n",
       "      <td>0.0</td>\n",
       "      <td>0.0</td>\n",
       "      <td>0.0</td>\n",
       "      <td>0.0</td>\n",
       "      <td>0.0</td>\n",
       "      <td>0.0</td>\n",
       "      <td>0.0</td>\n",
       "      <td>0.0</td>\n",
       "      <td>...</td>\n",
       "      <td>0.0</td>\n",
       "      <td>0.0</td>\n",
       "      <td>0.0</td>\n",
       "      <td>0.0</td>\n",
       "      <td>0.0</td>\n",
       "      <td>0.0</td>\n",
       "      <td>0.0</td>\n",
       "      <td>0.0</td>\n",
       "      <td>0.0</td>\n",
       "      <td>0.0</td>\n",
       "    </tr>\n",
       "    <tr>\n",
       "      <th>thanks</th>\n",
       "      <td>0.0</td>\n",
       "      <td>0.0</td>\n",
       "      <td>0.0</td>\n",
       "      <td>0.0</td>\n",
       "      <td>0.0</td>\n",
       "      <td>0.0</td>\n",
       "      <td>0.0</td>\n",
       "      <td>0.0</td>\n",
       "      <td>0.0</td>\n",
       "      <td>0.0</td>\n",
       "      <td>...</td>\n",
       "      <td>0.0</td>\n",
       "      <td>0.0</td>\n",
       "      <td>0.0</td>\n",
       "      <td>0.0</td>\n",
       "      <td>0.0</td>\n",
       "      <td>0.0</td>\n",
       "      <td>0.0</td>\n",
       "      <td>0.0</td>\n",
       "      <td>0.0</td>\n",
       "      <td>0.0</td>\n",
       "    </tr>\n",
       "    <tr>\n",
       "      <th>likelihood of phl to bdl actually leaving tonight   hour delay so far</th>\n",
       "      <td>0.0</td>\n",
       "      <td>0.0</td>\n",
       "      <td>0.0</td>\n",
       "      <td>0.0</td>\n",
       "      <td>0.0</td>\n",
       "      <td>0.0</td>\n",
       "      <td>0.0</td>\n",
       "      <td>0.0</td>\n",
       "      <td>0.0</td>\n",
       "      <td>0.0</td>\n",
       "      <td>...</td>\n",
       "      <td>0.0</td>\n",
       "      <td>0.0</td>\n",
       "      <td>0.0</td>\n",
       "      <td>0.0</td>\n",
       "      <td>0.0</td>\n",
       "      <td>0.0</td>\n",
       "      <td>0.0</td>\n",
       "      <td>0.0</td>\n",
       "      <td>0.0</td>\n",
       "      <td>0.0</td>\n",
       "    </tr>\n",
       "    <tr>\n",
       "      <th>want to make my day  friend is premier amp i should be soon any chance you can upgrade our two   hr leg of flight to ecom plus</th>\n",
       "      <td>0.0</td>\n",
       "      <td>0.0</td>\n",
       "      <td>0.0</td>\n",
       "      <td>0.0</td>\n",
       "      <td>0.0</td>\n",
       "      <td>0.0</td>\n",
       "      <td>0.0</td>\n",
       "      <td>0.0</td>\n",
       "      <td>0.0</td>\n",
       "      <td>0.0</td>\n",
       "      <td>...</td>\n",
       "      <td>0.0</td>\n",
       "      <td>0.0</td>\n",
       "      <td>0.0</td>\n",
       "      <td>0.0</td>\n",
       "      <td>0.0</td>\n",
       "      <td>0.0</td>\n",
       "      <td>0.0</td>\n",
       "      <td>0.0</td>\n",
       "      <td>0.0</td>\n",
       "      <td>0.0</td>\n",
       "    </tr>\n",
       "  </tbody>\n",
       "</table>\n",
       "<p>5 rows × 53519 columns</p>\n",
       "</div>"
      ],
      "text/plain": [
       "                                                                                                                                 aa able  \\\n",
       "text                                                                                                                                       \n",
       " yep they moved me to   as they showed me flying standby                                                                         0.0       \n",
       " i dmed you the details                                                                                                          0.0       \n",
       " thanks                                                                                                                          0.0       \n",
       " likelihood of phl to bdl actually leaving tonight   hour delay so far                                                           0.0       \n",
       " want to make my day  friend is premier amp i should be soon any chance you can upgrade our two   hr leg of flight to ecom plus  0.0       \n",
       "\n",
       "                                                                                                                                 aa account  \\\n",
       "text                                                                                                                                          \n",
       " yep they moved me to   as they showed me flying standby                                                                         0.0          \n",
       " i dmed you the details                                                                                                          0.0          \n",
       " thanks                                                                                                                          0.0          \n",
       " likelihood of phl to bdl actually leaving tonight   hour delay so far                                                           0.0          \n",
       " want to make my day  friend is premier amp i should be soon any chance you can upgrade our two   hr leg of flight to ecom plus  0.0          \n",
       "\n",
       "                                                                                                                                 aa accounts  \\\n",
       "text                                                                                                                                           \n",
       " yep they moved me to   as they showed me flying standby                                                                         0.0           \n",
       " i dmed you the details                                                                                                          0.0           \n",
       " thanks                                                                                                                          0.0           \n",
       " likelihood of phl to bdl actually leaving tonight   hour delay so far                                                           0.0           \n",
       " want to make my day  friend is premier amp i should be soon any chance you can upgrade our two   hr leg of flight to ecom plus  0.0           \n",
       "\n",
       "                                                                                                                                 aa advantage  \\\n",
       "text                                                                                                                                            \n",
       " yep they moved me to   as they showed me flying standby                                                                         0.0            \n",
       " i dmed you the details                                                                                                          0.0            \n",
       " thanks                                                                                                                          0.0            \n",
       " likelihood of phl to bdl actually leaving tonight   hour delay so far                                                           0.0            \n",
       " want to make my day  friend is premier amp i should be soon any chance you can upgrade our two   hr leg of flight to ecom plus  0.0            \n",
       "\n",
       "                                                                                                                                 aa agent  \\\n",
       "text                                                                                                                                        \n",
       " yep they moved me to   as they showed me flying standby                                                                         0.0        \n",
       " i dmed you the details                                                                                                          0.0        \n",
       " thanks                                                                                                                          0.0        \n",
       " likelihood of phl to bdl actually leaving tonight   hour delay so far                                                           0.0        \n",
       " want to make my day  friend is premier amp i should be soon any chance you can upgrade our two   hr leg of flight to ecom plus  0.0        \n",
       "\n",
       "                                                                                                                                 aa agents  \\\n",
       "text                                                                                                                                         \n",
       " yep they moved me to   as they showed me flying standby                                                                         0.0         \n",
       " i dmed you the details                                                                                                          0.0         \n",
       " thanks                                                                                                                          0.0         \n",
       " likelihood of phl to bdl actually leaving tonight   hour delay so far                                                           0.0         \n",
       " want to make my day  friend is premier amp i should be soon any chance you can upgrade our two   hr leg of flight to ecom plus  0.0         \n",
       "\n",
       "                                                                                                                                 aa air  \\\n",
       "text                                                                                                                                      \n",
       " yep they moved me to   as they showed me flying standby                                                                         0.0      \n",
       " i dmed you the details                                                                                                          0.0      \n",
       " thanks                                                                                                                          0.0      \n",
       " likelihood of phl to bdl actually leaving tonight   hour delay so far                                                           0.0      \n",
       " want to make my day  friend is premier amp i should be soon any chance you can upgrade our two   hr leg of flight to ecom plus  0.0      \n",
       "\n",
       "                                                                                                                                 aa airline  \\\n",
       "text                                                                                                                                          \n",
       " yep they moved me to   as they showed me flying standby                                                                         0.0          \n",
       " i dmed you the details                                                                                                          0.0          \n",
       " thanks                                                                                                                          0.0          \n",
       " likelihood of phl to bdl actually leaving tonight   hour delay so far                                                           0.0          \n",
       " want to make my day  friend is premier amp i should be soon any chance you can upgrade our two   hr leg of flight to ecom plus  0.0          \n",
       "\n",
       "                                                                                                                                 aa amp  \\\n",
       "text                                                                                                                                      \n",
       " yep they moved me to   as they showed me flying standby                                                                         0.0      \n",
       " i dmed you the details                                                                                                          0.0      \n",
       " thanks                                                                                                                          0.0      \n",
       " likelihood of phl to bdl actually leaving tonight   hour delay so far                                                           0.0      \n",
       " want to make my day  friend is premier amp i should be soon any chance you can upgrade our two   hr leg of flight to ecom plus  0.0      \n",
       "\n",
       "                                                                                                                                 aa automated  \\\n",
       "text                                                                                                                                            \n",
       " yep they moved me to   as they showed me flying standby                                                                         0.0            \n",
       " i dmed you the details                                                                                                          0.0            \n",
       " thanks                                                                                                                          0.0            \n",
       " likelihood of phl to bdl actually leaving tonight   hour delay so far                                                           0.0            \n",
       " want to make my day  friend is premier amp i should be soon any chance you can upgrade our two   hr leg of flight to ecom plus  0.0            \n",
       "\n",
       "                                                                                                                                 ...  \\\n",
       "text                                                                                                                             ...   \n",
       " yep they moved me to   as they showed me flying standby                                                                         ...   \n",
       " i dmed you the details                                                                                                          ...   \n",
       " thanks                                                                                                                          ...   \n",
       " likelihood of phl to bdl actually leaving tonight   hour delay so far                                                           ...   \n",
       " want to make my day  friend is premier amp i should be soon any chance you can upgrade our two   hr leg of flight to ecom plus  ...   \n",
       "\n",
       "                                                                                                                                 zone forced  \\\n",
       "text                                                                                                                                           \n",
       " yep they moved me to   as they showed me flying standby                                                                         0.0           \n",
       " i dmed you the details                                                                                                          0.0           \n",
       " thanks                                                                                                                          0.0           \n",
       " likelihood of phl to bdl actually leaving tonight   hour delay so far                                                           0.0           \n",
       " want to make my day  friend is premier amp i should be soon any chance you can upgrade our two   hr leg of flight to ecom plus  0.0           \n",
       "\n",
       "                                                                                                                                 zone space  \\\n",
       "text                                                                                                                                          \n",
       " yep they moved me to   as they showed me flying standby                                                                         0.0          \n",
       " i dmed you the details                                                                                                          0.0          \n",
       " thanks                                                                                                                          0.0          \n",
       " likelihood of phl to bdl actually leaving tonight   hour delay so far                                                           0.0          \n",
       " want to make my day  friend is premier amp i should be soon any chance you can upgrade our two   hr leg of flight to ecom plus  0.0          \n",
       "\n",
       "                                                                                                                                 zones thanks  \\\n",
       "text                                                                                                                                            \n",
       " yep they moved me to   as they showed me flying standby                                                                         0.0            \n",
       " i dmed you the details                                                                                                          0.0            \n",
       " thanks                                                                                                                          0.0            \n",
       " likelihood of phl to bdl actually leaving tonight   hour delay so far                                                           0.0            \n",
       " want to make my day  friend is premier amp i should be soon any chance you can upgrade our two   hr leg of flight to ecom plus  0.0            \n",
       "\n",
       "                                                                                                                                 zoom sauce  \\\n",
       "text                                                                                                                                          \n",
       " yep they moved me to   as they showed me flying standby                                                                         0.0          \n",
       " i dmed you the details                                                                                                          0.0          \n",
       " thanks                                                                                                                          0.0          \n",
       " likelihood of phl to bdl actually leaving tonight   hour delay so far                                                           0.0          \n",
       " want to make my day  friend is premier amp i should be soon any chance you can upgrade our two   hr leg of flight to ecom plus  0.0          \n",
       "\n",
       "                                                                                                                                 zoom scroll  \\\n",
       "text                                                                                                                                           \n",
       " yep they moved me to   as they showed me flying standby                                                                         0.0           \n",
       " i dmed you the details                                                                                                          0.0           \n",
       " thanks                                                                                                                          0.0           \n",
       " likelihood of phl to bdl actually leaving tonight   hour delay so far                                                           0.0           \n",
       " want to make my day  friend is premier amp i should be soon any chance you can upgrade our two   hr leg of flight to ecom plus  0.0           \n",
       "\n",
       "                                                                                                                                 zrhairport replacing  \\\n",
       "text                                                                                                                                                    \n",
       " yep they moved me to   as they showed me flying standby                                                                         0.0                    \n",
       " i dmed you the details                                                                                                          0.0                    \n",
       " thanks                                                                                                                          0.0                    \n",
       " likelihood of phl to bdl actually leaving tonight   hour delay so far                                                           0.0                    \n",
       " want to make my day  friend is premier amp i should be soon any chance you can upgrade our two   hr leg of flight to ecom plus  0.0                    \n",
       "\n",
       "                                                                                                                                 zurich credit  \\\n",
       "text                                                                                                                                             \n",
       " yep they moved me to   as they showed me flying standby                                                                         0.0             \n",
       " i dmed you the details                                                                                                          0.0             \n",
       " thanks                                                                                                                          0.0             \n",
       " likelihood of phl to bdl actually leaving tonight   hour delay so far                                                           0.0             \n",
       " want to make my day  friend is premier amp i should be soon any chance you can upgrade our two   hr leg of flight to ecom plus  0.0             \n",
       "\n",
       "                                                                                                                                 zurich jfk  \\\n",
       "text                                                                                                                                          \n",
       " yep they moved me to   as they showed me flying standby                                                                         0.0          \n",
       " i dmed you the details                                                                                                          0.0          \n",
       " thanks                                                                                                                          0.0          \n",
       " likelihood of phl to bdl actually leaving tonight   hour delay so far                                                           0.0          \n",
       " want to make my day  friend is premier amp i should be soon any chance you can upgrade our two   hr leg of flight to ecom plus  0.0          \n",
       "\n",
       "                                                                                                                                 zurich zrhairport  \\\n",
       "text                                                                                                                                                 \n",
       " yep they moved me to   as they showed me flying standby                                                                         0.0                 \n",
       " i dmed you the details                                                                                                          0.0                 \n",
       " thanks                                                                                                                          0.0                 \n",
       " likelihood of phl to bdl actually leaving tonight   hour delay so far                                                           0.0                 \n",
       " want to make my day  friend is premier amp i should be soon any chance you can upgrade our two   hr leg of flight to ecom plus  0.0                 \n",
       "\n",
       "                                                                                                                                 zurichnew york  \n",
       "text                                                                                                                                             \n",
       " yep they moved me to   as they showed me flying standby                                                                         0.0             \n",
       " i dmed you the details                                                                                                          0.0             \n",
       " thanks                                                                                                                          0.0             \n",
       " likelihood of phl to bdl actually leaving tonight   hour delay so far                                                           0.0             \n",
       " want to make my day  friend is premier amp i should be soon any chance you can upgrade our two   hr leg of flight to ecom plus  0.0             \n",
       "\n",
       "[5 rows x 53519 columns]"
      ]
     },
     "execution_count": 46,
     "metadata": {},
     "output_type": "execute_result"
    }
   ],
   "source": [
    "tfidf_df_2ngram.head()"
   ]
  },
  {
   "cell_type": "markdown",
   "metadata": {},
   "source": [
    "# Classification of Tweets"
   ]
  },
  {
   "cell_type": "markdown",
   "metadata": {},
   "source": [
    "### Log Reg - Finding the best hyperparameter C"
   ]
  },
  {
   "cell_type": "code",
   "execution_count": 47,
   "metadata": {
    "ExecuteTime": {
     "end_time": "2019-10-04T20:10:03.153476Z",
     "start_time": "2019-10-04T20:09:38.291764Z"
    }
   },
   "outputs": [
    {
     "name": "stderr",
     "output_type": "stream",
     "text": [
      "/Users/evaxu/anaconda3/lib/python3.7/site-packages/sklearn/linear_model/logistic.py:432: FutureWarning: Default solver will be changed to 'lbfgs' in 0.22. Specify a solver to silence this warning.\n",
      "  FutureWarning)\n"
     ]
    },
    {
     "name": "stdout",
     "output_type": "stream",
     "text": [
      "Tuned Logistic Regression Parameters: {'C': 3.727593720314938}\n",
      "Best score is 0.8057007594437321\n"
     ]
    }
   ],
   "source": [
    "c_space = np.logspace(-5, 8, 15) \n",
    "\n",
    "tuned_parameters = {'C': c_space}\n",
    "\n",
    "m = LogisticRegression(class_weight= {0:.6,1:1})\n",
    "gridLogReg = GridSearchCV(m, tuned_parameters, cv=5)\n",
    "gridLogReg.fit(X_train_tfidf, y_train)\n",
    "\n",
    "print(\"Tuned Logistic Regression Parameters: {}\".format(gridLogReg.best_params_))  \n",
    "print(\"Best score is {}\".format(gridLogReg.best_score_)) "
   ]
  },
  {
   "cell_type": "markdown",
   "metadata": {},
   "source": [
    "# Modeling & Class Balance"
   ]
  },
  {
   "cell_type": "markdown",
   "metadata": {},
   "source": [
    "I tried the following models, with weighted class balance."
   ]
  },
  {
   "cell_type": "code",
   "execution_count": 48,
   "metadata": {
    "ExecuteTime": {
     "end_time": "2019-10-04T20:10:05.233276Z",
     "start_time": "2019-10-04T20:10:05.221044Z"
    }
   },
   "outputs": [],
   "source": [
    "Classifiers_weighted= [\n",
    "    LogisticRegression(C=0.000000001,solver='liblinear',max_iter=200, class_weight= {0:.6,1:1}),\n",
    "    LogisticRegression(C=3.727593720314938,solver='liblinear',max_iter=200, class_weight= {0:.6,1:1}),\n",
    "    LogisticRegression(C=.2727593720314938,solver='liblinear',max_iter=200, class_weight= {0:.6,1:1}),\n",
    "    LogisticRegression(solver='liblinear',max_iter=200, class_weight= {0:.6,1:1}),\n",
    "    KNeighborsClassifier(3),\n",
    "    DecisionTreeClassifier(class_weight= {0:.6,1:1}),\n",
    "    RandomForestClassifier(class_weight= {0:.6,1:1}, n_estimators=200, max_depth=3,oob_score=True,random_state=42),\n",
    "    GaussianNB(),\n",
    "    ]"
   ]
  },
  {
   "cell_type": "code",
   "execution_count": 49,
   "metadata": {
    "ExecuteTime": {
     "end_time": "2019-10-04T20:10:07.437531Z",
     "start_time": "2019-10-04T20:10:07.425498Z"
    }
   },
   "outputs": [],
   "source": [
    "Accuracy=[]\n",
    "Model=[]\n",
    "def classification_tfidf_weighted (X_train_tfidf, X_test_tfidf):\n",
    "    for classifier in Classifiers_weighted:\n",
    "        try:\n",
    "            fit = classifier.fit(X_train_tfidf, y_train)\n",
    "            y_pred = fit.predict(X_test_tfidf)\n",
    "        except:\n",
    "            fit = classifier.fit(X_train_tfidf.toarray(),y_train)\n",
    "            y_pred = fit.predict(X_test_tfidf.toarray())\n",
    "\n",
    "        \n",
    "        accuracy = accuracy_score(y_test,y_pred)    \n",
    "        Accuracy.append(accuracy)\n",
    "        Model.append(classifier)\n",
    "\n",
    "        \n",
    "        print('Accuracy of '+classifier.__class__.__name__+' is '+str(accuracy))\n",
    "        print(classification_report(y_test, y_pred))\n",
    "\n"
   ]
  },
  {
   "cell_type": "code",
   "execution_count": 50,
   "metadata": {
    "ExecuteTime": {
     "end_time": "2019-10-04T20:10:33.915711Z",
     "start_time": "2019-10-04T20:10:09.778574Z"
    },
    "scrolled": true
   },
   "outputs": [
    {
     "name": "stdout",
     "output_type": "stream",
     "text": [
      "Accuracy of LogisticRegression is 0.7519558214450069\n",
      "              precision    recall  f1-score   support\n",
      "\n",
      "           0       0.80      0.82      0.81      2782\n",
      "           1       0.67      0.62      0.64      1564\n",
      "\n",
      "    accuracy                           0.75      4346\n",
      "   macro avg       0.73      0.72      0.73      4346\n",
      "weighted avg       0.75      0.75      0.75      4346\n",
      "\n",
      "Accuracy of LogisticRegression is 0.8048780487804879\n",
      "              precision    recall  f1-score   support\n",
      "\n",
      "           0       0.88      0.81      0.84      2782\n",
      "           1       0.70      0.80      0.75      1564\n",
      "\n",
      "    accuracy                           0.80      4346\n",
      "   macro avg       0.79      0.80      0.79      4346\n",
      "weighted avg       0.81      0.80      0.81      4346\n",
      "\n",
      "Accuracy of LogisticRegression is 0.8080994017487345\n",
      "              precision    recall  f1-score   support\n",
      "\n",
      "           0       0.90      0.79      0.84      2782\n",
      "           1       0.69      0.84      0.76      1564\n",
      "\n",
      "    accuracy                           0.81      4346\n",
      "   macro avg       0.79      0.81      0.80      4346\n",
      "weighted avg       0.82      0.81      0.81      4346\n",
      "\n",
      "Accuracy of LogisticRegression is 0.8083294983893236\n",
      "              precision    recall  f1-score   support\n",
      "\n",
      "           0       0.89      0.80      0.84      2782\n",
      "           1       0.70      0.82      0.75      1564\n",
      "\n",
      "    accuracy                           0.81      4346\n",
      "   macro avg       0.79      0.81      0.80      4346\n",
      "weighted avg       0.82      0.81      0.81      4346\n",
      "\n",
      "Accuracy of KNeighborsClassifier is 0.5651173492867004\n",
      "              precision    recall  f1-score   support\n",
      "\n",
      "           0       0.89      0.37      0.52      2782\n",
      "           1       0.45      0.92      0.60      1564\n",
      "\n",
      "    accuracy                           0.57      4346\n",
      "   macro avg       0.67      0.64      0.56      4346\n",
      "weighted avg       0.73      0.57      0.55      4346\n",
      "\n",
      "Accuracy of DecisionTreeClassifier is 0.7482742751955821\n",
      "              precision    recall  f1-score   support\n",
      "\n",
      "           0       0.81      0.79      0.80      2782\n",
      "           1       0.65      0.67      0.66      1564\n",
      "\n",
      "    accuracy                           0.75      4346\n",
      "   macro avg       0.73      0.73      0.73      4346\n",
      "weighted avg       0.75      0.75      0.75      4346\n",
      "\n",
      "Accuracy of RandomForestClassifier is 0.6932811780947998\n",
      "              precision    recall  f1-score   support\n",
      "\n",
      "           0       0.91      0.58      0.71      2782\n",
      "           1       0.54      0.90      0.68      1564\n",
      "\n",
      "    accuracy                           0.69      4346\n",
      "   macro avg       0.73      0.74      0.69      4346\n",
      "weighted avg       0.78      0.69      0.70      4346\n",
      "\n",
      "Accuracy of GaussianNB is 0.5770823745973309\n",
      "              precision    recall  f1-score   support\n",
      "\n",
      "           0       0.81      0.44      0.57      2782\n",
      "           1       0.45      0.82      0.58      1564\n",
      "\n",
      "    accuracy                           0.58      4346\n",
      "   macro avg       0.63      0.63      0.58      4346\n",
      "weighted avg       0.68      0.58      0.58      4346\n",
      "\n"
     ]
    }
   ],
   "source": [
    "classification_tfidf_weighted(X_train_cv, X_test_cv)"
   ]
  },
  {
   "cell_type": "code",
   "execution_count": 67,
   "metadata": {
    "ExecuteTime": {
     "end_time": "2019-10-04T18:45:30.139970Z",
     "start_time": "2019-10-04T18:45:14.666979Z"
    },
    "scrolled": true
   },
   "outputs": [
    {
     "name": "stdout",
     "output_type": "stream",
     "text": [
      "Accuracy of LogisticRegression is 0.3796594569719282\n",
      "              precision    recall  f1-score   support\n",
      "\n",
      "           0       0.93      0.03      0.06      2782\n",
      "           1       0.37      1.00      0.54      1564\n",
      "\n",
      "    accuracy                           0.38      4346\n",
      "   macro avg       0.65      0.51      0.30      4346\n",
      "weighted avg       0.73      0.38      0.23      4346\n",
      "\n",
      "Accuracy of LogisticRegression is 0.8189139438564197\n",
      "              precision    recall  f1-score   support\n",
      "\n",
      "           0       0.88      0.84      0.86      2782\n",
      "           1       0.73      0.79      0.76      1564\n",
      "\n",
      "    accuracy                           0.82      4346\n",
      "   macro avg       0.80      0.81      0.81      4346\n",
      "weighted avg       0.82      0.82      0.82      4346\n",
      "\n",
      "Accuracy of LogisticRegression is 0.8071790151863782\n",
      "              precision    recall  f1-score   support\n",
      "\n",
      "           0       0.87      0.82      0.84      2782\n",
      "           1       0.71      0.79      0.75      1564\n",
      "\n",
      "    accuracy                           0.81      4346\n",
      "   macro avg       0.79      0.80      0.80      4346\n",
      "weighted avg       0.81      0.81      0.81      4346\n",
      "\n",
      "Accuracy of LogisticRegression is 0.8145421076852278\n",
      "              precision    recall  f1-score   support\n",
      "\n",
      "           0       0.88      0.83      0.85      2782\n",
      "           1       0.72      0.80      0.76      1564\n",
      "\n",
      "    accuracy                           0.81      4346\n",
      "   macro avg       0.80      0.81      0.80      4346\n",
      "weighted avg       0.82      0.81      0.82      4346\n",
      "\n",
      "Accuracy of KNeighborsClassifier is 0.3886332259549011\n",
      "              precision    recall  f1-score   support\n",
      "\n",
      "           0       0.81      0.06      0.11      2782\n",
      "           1       0.37      0.98      0.53      1564\n",
      "\n",
      "    accuracy                           0.39      4346\n",
      "   macro avg       0.59      0.52      0.32      4346\n",
      "weighted avg       0.65      0.39      0.26      4346\n",
      "\n",
      "Accuracy of DecisionTreeClassifier is 0.7457432121491027\n",
      "              precision    recall  f1-score   support\n",
      "\n",
      "           0       0.81      0.79      0.80      2782\n",
      "           1       0.64      0.67      0.66      1564\n",
      "\n",
      "    accuracy                           0.75      4346\n",
      "   macro avg       0.73      0.73      0.73      4346\n",
      "weighted avg       0.75      0.75      0.75      4346\n",
      "\n",
      "Accuracy of RandomForestClassifier is 0.6693511274735389\n",
      "              precision    recall  f1-score   support\n",
      "\n",
      "           0       0.90      0.55      0.68      2782\n",
      "           1       0.52      0.89      0.66      1564\n",
      "\n",
      "    accuracy                           0.67      4346\n",
      "   macro avg       0.71      0.72      0.67      4346\n",
      "weighted avg       0.76      0.67      0.67      4346\n",
      "\n",
      "Accuracy of GaussianNB is 0.5759318913943856\n",
      "              precision    recall  f1-score   support\n",
      "\n",
      "           0       0.81      0.45      0.57      2782\n",
      "           1       0.45      0.81      0.58      1564\n",
      "\n",
      "    accuracy                           0.58      4346\n",
      "   macro avg       0.63      0.63      0.58      4346\n",
      "weighted avg       0.68      0.58      0.58      4346\n",
      "\n"
     ]
    }
   ],
   "source": [
    "classification_tfidf_weighted(X_train_tfidf, X_test_tfidf)"
   ]
  },
  {
   "cell_type": "markdown",
   "metadata": {
    "ExecuteTime": {
     "end_time": "2019-10-04T19:02:23.657074Z",
     "start_time": "2019-10-04T19:02:23.470815Z"
    }
   },
   "source": [
    "Cross Validation:"
   ]
  },
  {
   "cell_type": "code",
   "execution_count": 51,
   "metadata": {
    "ExecuteTime": {
     "end_time": "2019-10-04T20:11:04.285884Z",
     "start_time": "2019-10-04T20:11:04.257633Z"
    }
   },
   "outputs": [],
   "source": [
    "Classifiers_weighted= [\n",
    "    LogisticRegression(C=0.000000001,solver='liblinear',max_iter=200, class_weight= {0:.6,1:1}),\n",
    "    LogisticRegression(C=3.727593720314938,solver='liblinear',max_iter=200, class_weight= {0:.6,1:1}),\n",
    "    LogisticRegression(C=.2727593720314938,solver='liblinear',max_iter=200, class_weight= {0:.6,1:1}),\n",
    "    LogisticRegression(solver='liblinear',max_iter=200, class_weight= {0:.6,1:1}),\n",
    "    KNeighborsClassifier(3),\n",
    "    DecisionTreeClassifier(class_weight= {0:.6,1:1}),\n",
    "    RandomForestClassifier(class_weight= {0:.6,1:1}, n_estimators=200, max_depth=3,oob_score=True,random_state=42),\n",
    "    ]"
   ]
  },
  {
   "cell_type": "code",
   "execution_count": 52,
   "metadata": {
    "ExecuteTime": {
     "end_time": "2019-10-04T20:11:05.273587Z",
     "start_time": "2019-10-04T20:11:05.255432Z"
    }
   },
   "outputs": [],
   "source": [
    "def classification_tfidf_weighted_cross_validate (X_train_tfidf, X_test_tfidf):\n",
    "    for classifier in Classifiers_weighted:\n",
    "        try:\n",
    "            fit = classifier.fit(X_train_tfidf, y_train)\n",
    "            y_pred = fit.predict(X_test_tfidf)\n",
    "        except:\n",
    "            fit = classifier.fit(X_train_tfidf.toarray(),y_train)\n",
    "            y_pred = fit.predict(X_test_tfidf.toarray())       \n",
    "        print(classifier.__class__.__name__)\n",
    "                 \n",
    "        classifier_crossval = pd.DataFrame(cross_validate(classifier, X_train_tfidf, y_train, cv=5, scoring=['accuracy','precision','recall','f1'], return_train_score=True))\n",
    "        print(classifier_crossval.mean())"
   ]
  },
  {
   "cell_type": "code",
   "execution_count": 54,
   "metadata": {
    "ExecuteTime": {
     "end_time": "2019-10-04T20:13:48.504313Z",
     "start_time": "2019-10-04T20:12:37.177534Z"
    }
   },
   "outputs": [
    {
     "name": "stdout",
     "output_type": "stream",
     "text": [
      "LogisticRegression\n",
      "fit_time           0.014007\n",
      "score_time         0.009430\n",
      "test_accuracy      0.751258\n",
      "train_accuracy     0.763290\n",
      "test_precision     0.686864\n",
      "train_precision    0.704234\n",
      "test_recall        0.630891\n",
      "train_recall       0.646392\n",
      "test_f1            0.657609\n",
      "train_f1           0.674047\n",
      "dtype: float64\n",
      "LogisticRegression\n",
      "fit_time           0.093070\n",
      "score_time         0.010060\n",
      "test_accuracy      0.796430\n",
      "train_accuracy     0.958995\n",
      "test_precision     0.707669\n",
      "train_precision    0.922186\n",
      "test_recall        0.787709\n",
      "train_recall       0.973886\n",
      "test_f1            0.745443\n",
      "train_f1           0.947330\n",
      "dtype: float64\n",
      "LogisticRegression\n",
      "fit_time           0.033732\n",
      "score_time         0.009448\n",
      "test_accuracy      0.799487\n",
      "train_accuracy     0.874593\n",
      "test_precision     0.699909\n",
      "train_precision    0.790981\n",
      "test_recall        0.823396\n",
      "train_recall       0.909026\n",
      "test_f1            0.756586\n",
      "train_f1           0.845902\n",
      "dtype: float64\n",
      "LogisticRegression\n",
      "fit_time           0.054614\n",
      "score_time         0.010120\n",
      "test_accuracy      0.804913\n",
      "train_accuracy     0.919543\n",
      "test_precision     0.712681\n",
      "train_precision    0.857810\n",
      "test_recall        0.812195\n",
      "train_recall       0.943996\n",
      "test_f1            0.759071\n",
      "train_f1           0.898839\n",
      "dtype: float64\n",
      "KNeighborsClassifier\n",
      "fit_time           0.004195\n",
      "score_time         1.434878\n",
      "test_accuracy      0.564749\n",
      "train_accuracy     0.737697\n",
      "test_precision     0.463552\n",
      "train_precision    0.604773\n",
      "test_recall        0.909621\n",
      "train_recall       0.946990\n",
      "test_f1            0.613098\n",
      "train_f1           0.734959\n",
      "dtype: float64\n",
      "DecisionTreeClassifier\n",
      "fit_time           1.332039\n",
      "score_time         0.018484\n",
      "test_accuracy      0.745537\n",
      "train_accuracy     0.997633\n",
      "test_precision     0.657211\n",
      "train_precision    0.994108\n",
      "test_recall        0.685340\n",
      "train_recall       0.999674\n",
      "test_f1            0.670844\n",
      "train_f1           0.996883\n",
      "dtype: float64\n",
      "RandomForestClassifier\n",
      "fit_time           1.138726\n",
      "score_time         0.213841\n",
      "test_accuracy      0.685963\n",
      "train_accuracy     0.699922\n",
      "test_precision     0.552073\n",
      "train_precision    0.563490\n",
      "test_recall        0.911957\n",
      "train_recall       0.924784\n",
      "test_f1            0.687586\n",
      "train_f1           0.700143\n",
      "dtype: float64\n"
     ]
    }
   ],
   "source": [
    "classification_tfidf_weighted_cross_validate (X_train_cv, X_test_cv)"
   ]
  },
  {
   "cell_type": "code",
   "execution_count": 53,
   "metadata": {
    "ExecuteTime": {
     "end_time": "2019-10-04T20:12:37.171130Z",
     "start_time": "2019-10-04T20:11:06.216341Z"
    }
   },
   "outputs": [
    {
     "name": "stdout",
     "output_type": "stream",
     "text": [
      "LogisticRegression\n",
      "fit_time           0.010907\n",
      "score_time         0.008170\n",
      "test_accuracy      0.395700\n",
      "train_accuracy     0.397697\n",
      "test_precision     0.384933\n",
      "train_precision    0.385760\n",
      "test_recall        0.996875\n",
      "train_recall       0.997330\n",
      "test_f1            0.555403\n",
      "train_f1           0.556334\n",
      "dtype: float64\n",
      "LogisticRegression\n",
      "fit_time           0.037536\n",
      "score_time         0.007278\n",
      "test_accuracy      0.805701\n",
      "train_accuracy     0.925387\n",
      "test_precision     0.722817\n",
      "train_precision    0.879206\n",
      "test_recall        0.789531\n",
      "train_recall       0.930841\n",
      "test_f1            0.754565\n",
      "train_f1           0.904283\n",
      "dtype: float64\n",
      "LogisticRegression\n",
      "fit_time           0.023744\n",
      "score_time         0.007557\n",
      "test_accuracy      0.795148\n",
      "train_accuracy     0.844980\n",
      "test_precision     0.704363\n",
      "train_precision    0.766204\n",
      "test_recall        0.790834\n",
      "train_recall       0.850026\n",
      "test_f1            0.744970\n",
      "train_f1           0.805927\n",
      "dtype: float64\n",
      "LogisticRegression\n",
      "fit_time           0.122270\n",
      "score_time         0.014608\n",
      "test_accuracy      0.803827\n",
      "train_accuracy     0.882804\n",
      "test_precision     0.715352\n",
      "train_precision    0.816567\n",
      "test_recall        0.800214\n",
      "train_recall       0.890531\n",
      "test_f1            0.755214\n",
      "train_f1           0.851945\n",
      "dtype: float64\n",
      "KNeighborsClassifier\n",
      "fit_time           0.005972\n",
      "score_time         1.897579\n",
      "test_accuracy      0.402209\n",
      "train_accuracy     0.544238\n",
      "test_precision     0.385852\n",
      "train_precision    0.515788\n",
      "test_recall        0.977861\n",
      "train_recall       0.986064\n",
      "test_f1            0.553321\n",
      "train_f1           0.650921\n",
      "dtype: float64\n",
      "DecisionTreeClassifier\n",
      "fit_time           1.884883\n",
      "score_time         0.025663\n",
      "test_accuracy      0.751257\n",
      "train_accuracy     0.997633\n",
      "test_precision     0.661261\n",
      "train_precision    0.994108\n",
      "test_recall        0.703571\n",
      "train_recall       0.999674\n",
      "test_f1            0.681533\n",
      "train_f1           0.996883\n",
      "dtype: float64\n",
      "RandomForestClassifier\n",
      "fit_time           1.451023\n",
      "score_time         0.384906\n",
      "test_accuracy      0.684878\n",
      "train_accuracy     0.703620\n",
      "test_precision     0.551190\n",
      "train_precision    0.566771\n",
      "test_recall        0.908312\n",
      "train_recall       0.925957\n",
      "test_f1            0.685913\n",
      "train_f1           0.703019\n",
      "dtype: float64\n"
     ]
    }
   ],
   "source": [
    "classification_tfidf_weighted_cross_validate (X_train_tfidf, X_test_tfidf)"
   ]
  },
  {
   "cell_type": "markdown",
   "metadata": {},
   "source": [
    "The Logistic Regression Model that was picked with parameter C = 3.727 from GridSearchCV (cv=5) has the best accuracy."
   ]
  },
  {
   "cell_type": "markdown",
   "metadata": {},
   "source": [
    "# Try XGBoost (but it was not as good as Log Reg)"
   ]
  },
  {
   "cell_type": "markdown",
   "metadata": {},
   "source": [
    "## Weighted and Cross Validated"
   ]
  },
  {
   "cell_type": "code",
   "execution_count": 121,
   "metadata": {
    "ExecuteTime": {
     "end_time": "2019-09-26T19:39:32.627202Z",
     "start_time": "2019-09-26T19:39:00.610903Z"
    }
   },
   "outputs": [],
   "source": [
    "gb_weighted = xgb.XGBClassifier(objective='binary:logistic',n_estimators=100, max_depth=3, learning_rate=.1, scale_pos_weight=1.66)\n",
    "gb_cv_weighted = pd.DataFrame(cross_validate(gb_weighted, X_train_tfidf, y_train, cv=5, scoring=['accuracy','precision','recall','f1'], return_train_score=True))"
   ]
  },
  {
   "cell_type": "code",
   "execution_count": 122,
   "metadata": {
    "ExecuteTime": {
     "end_time": "2019-09-26T19:40:19.248853Z",
     "start_time": "2019-09-26T19:40:19.231066Z"
    }
   },
   "outputs": [
    {
     "data": {
      "text/plain": [
       "fit_time           6.079654\n",
       "score_time         0.068174\n",
       "test_accuracy      0.717625\n",
       "train_accuracy     0.749482\n",
       "test_precision     0.589401\n",
       "train_precision    0.618238\n",
       "test_recall        0.840063\n",
       "train_recall       0.884670\n",
       "test_f1            0.692632\n",
       "train_f1           0.727836\n",
       "dtype: float64"
      ]
     },
     "execution_count": 122,
     "metadata": {},
     "output_type": "execute_result"
    }
   ],
   "source": [
    "gb_cv_weighted.mean()"
   ]
  },
  {
   "cell_type": "code",
   "execution_count": 123,
   "metadata": {
    "ExecuteTime": {
     "end_time": "2019-09-26T19:40:47.501727Z",
     "start_time": "2019-09-26T19:40:41.893215Z"
    }
   },
   "outputs": [],
   "source": [
    "gb_weighted = xgb.XGBClassifier(objective='binary:logistic',n_estimators=100, max_depth=3, learning_rate=.1, scale_pos_weight=1.66)\n",
    "gb_weighted = gb_weighted.fit(X_train_tfidf,y_train)\n",
    "y_pred = gb_weighted.predict(X_test_tfidf)"
   ]
  },
  {
   "cell_type": "code",
   "execution_count": 125,
   "metadata": {
    "ExecuteTime": {
     "end_time": "2019-09-26T19:41:49.221980Z",
     "start_time": "2019-09-26T19:41:49.202508Z"
    }
   },
   "outputs": [
    {
     "name": "stdout",
     "output_type": "stream",
     "text": [
      "              precision    recall  f1-score   support\n",
      "\n",
      "           0       0.88      0.66      0.76      2782\n",
      "           1       0.59      0.84      0.69      1564\n",
      "\n",
      "    accuracy                           0.73      4346\n",
      "   macro avg       0.73      0.75      0.72      4346\n",
      "weighted avg       0.78      0.73      0.73      4346\n",
      "\n"
     ]
    }
   ],
   "source": [
    "print(classification_report(y_test, y_pred))"
   ]
  },
  {
   "cell_type": "markdown",
   "metadata": {},
   "source": [
    "## Best Model: Logistic Regression (C=3.727)"
   ]
  },
  {
   "cell_type": "code",
   "execution_count": 75,
   "metadata": {
    "ExecuteTime": {
     "end_time": "2019-10-04T19:02:37.794055Z",
     "start_time": "2019-10-04T19:02:37.737106Z"
    }
   },
   "outputs": [],
   "source": [
    "def conf_matrix(actual, predicted):\n",
    "    cm = confusion_matrix(actual, predicted)\n",
    "    sns.heatmap(cm, xticklabels=['predicted_negative', 'predicted_positive'], \n",
    "                yticklabels=['actual_negative', 'actual_positive'], annot=True,\n",
    "                fmt='d', annot_kws={'fontsize':20}, cmap=\"YlGnBu\");\n",
    "\n",
    "    true_neg, false_pos = cm[0]\n",
    "    false_neg, true_pos = cm[1]\n",
    "\n",
    "    accuracy = round((true_pos + true_neg) / (true_pos + true_neg + false_pos + false_neg),3)\n",
    "    precision = round((true_pos) / (true_pos + false_pos),3)\n",
    "    recall = round((true_pos) / (true_pos + false_neg),3)\n",
    "    f1 = round(2 * (precision * recall) / (precision + recall),3)\n",
    "\n",
    "    cm_results = [accuracy, precision, recall, f1]\n",
    "    return cm_results"
   ]
  },
  {
   "cell_type": "code",
   "execution_count": 76,
   "metadata": {
    "ExecuteTime": {
     "end_time": "2019-10-04T19:02:38.375267Z",
     "start_time": "2019-10-04T19:02:38.367790Z"
    }
   },
   "outputs": [],
   "source": [
    "logreg = Model[1]"
   ]
  },
  {
   "cell_type": "code",
   "execution_count": 77,
   "metadata": {
    "ExecuteTime": {
     "end_time": "2019-10-04T19:02:42.863177Z",
     "start_time": "2019-10-04T19:02:41.278994Z"
    }
   },
   "outputs": [
    {
     "data": {
      "text/plain": [
       "[0.819, 0.729, 0.79, 0.758]"
      ]
     },
     "execution_count": 77,
     "metadata": {},
     "output_type": "execute_result"
    },
    {
     "data": {
      "image/png": "[encoded data removed]",
      "text/plain": [
       "<Figure size 432x288 with 2 Axes>"
      ]
     },
     "metadata": {
      "needs_background": "light"
     },
     "output_type": "display_data"
    }
   ],
   "source": [
    "y_pred= logreg.predict(X_test_tfidf)\n",
    "conf_matrix(y_test,y_pred)"
   ]
  },
  {
   "cell_type": "markdown",
   "metadata": {
    "ExecuteTime": {
     "end_time": "2019-09-26T20:15:03.184888Z",
     "start_time": "2019-09-26T20:15:03.178336Z"
    }
   },
   "source": [
    "#### Pickle Logistic Regression"
   ]
  },
  {
   "cell_type": "code",
   "execution_count": 78,
   "metadata": {
    "ExecuteTime": {
     "end_time": "2019-10-04T19:05:51.279919Z",
     "start_time": "2019-10-04T19:05:51.107359Z"
    }
   },
   "outputs": [
    {
     "data": {
      "text/plain": [
       "['./LogReg_model.pkl']"
      ]
     },
     "execution_count": 78,
     "metadata": {},
     "output_type": "execute_result"
    }
   ],
   "source": [
    "logreg = Model[1] # NEED THIS FOR FLASK \n",
    "\n",
    "joblib.dump(logreg, './LogReg_model.pkl')\n"
   ]
  }
 ],
 "metadata": {
  "kernelspec": {
   "display_name": "Python 3",
   "language": "python",
   "name": "python3"
  },
  "language_info": {
   "codemirror_mode": {
    "name": "ipython",
    "version": 3
   },
   "file_extension": ".py",
   "mimetype": "text/x-python",
   "name": "python",
   "nbconvert_exporter": "python",
   "pygments_lexer": "ipython3",
   "version": "3.7.3"
  }
 },
 "nbformat": 4,
 "nbformat_minor": 2
}
